{
 "cells": [
  {
   "cell_type": "markdown",
   "metadata": {},
   "source": [
    "## Wrangling & Analyzing Data from WeRateDogs"
   ]
  },
  {
   "cell_type": "markdown",
   "metadata": {},
   "source": [
    "For this project I'm going to wrangle and analyze data from the Twitter account [@dog_rates](https://twitter.com/dog_rates), a.k.a. WeRateDogs!\n",
    "\n",
    "I've divided the project into four sections:\n",
    "\n",
    "<ul>\n",
    "<li><a href=\"#gather\">Gathering the Data</a></li>\n",
    "<li><a href=\"#assess\">Assessing the Data</a></li>\n",
    "<li><a href=\"#clean\">Cleaning the Data</a></li>  \n",
    "<li><a href=\"#analyze\">Analyzing the Data</a></li>  \n",
    "</ul>"
   ]
  },
  {
   "cell_type": "code",
   "execution_count": 2,
   "metadata": {},
   "outputs": [],
   "source": [
    "import numpy as np\n",
    "import pandas as pd\n",
    "import requests\n",
    "import tweepy\n",
    "import json"
   ]
  },
  {
   "cell_type": "markdown",
   "metadata": {},
   "source": [
    "<a id='gather'></a>\n",
    "## Gathering the Data"
   ]
  },
  {
   "cell_type": "markdown",
   "metadata": {},
   "source": [
    "I'll start by getting the `twitter-archive-enhanced.csv` file with the pandas `read_csv` function:"
   ]
  },
  {
   "cell_type": "code",
   "execution_count": 4,
   "metadata": {},
   "outputs": [],
   "source": [
    "twitter_archive = pd.read_csv(\"twitter-archive-enhanced.csv\")"
   ]
  },
  {
   "cell_type": "markdown",
   "metadata": {},
   "source": [
    "I'll get the `image_predictions.tsv` file from Udacity's servers with the requests `get` function, write the response content to a file, and read it with the `read_csv` function (with tabs as separators instead of commas):"
   ]
  },
  {
   "cell_type": "code",
   "execution_count": 3,
   "metadata": {},
   "outputs": [],
   "source": [
    "url = \"https://d17h27t6h515a5.cloudfront.net/topher/2017/August/599fd2ad_image-predictions/image-predictions.tsv\"\n",
    "response = requests.get(url)\n",
    "\n",
    "with open(\"image_predictions.tsv\", mode = \"wb\") as tsv_file:\n",
    "    tsv_file.write(response.content)\n",
    "\n",
    "image_predictions = pd.read_csv(\"image_predictions.tsv\", sep = \"\\t\")"
   ]
  },
  {
   "cell_type": "markdown",
   "metadata": {},
   "source": [
    "I'll use tweepy to create an API object..."
   ]
  },
  {
   "cell_type": "code",
   "execution_count": 117,
   "metadata": {
    "scrolled": true
   },
   "outputs": [],
   "source": [
    "consumer_key = 'consumer_key'\n",
    "consumer_secret = 'consumer_secret'\n",
    "access_token = 'access_token'\n",
    "access_secret = 'access_secret'\n",
    "\n",
    "auth = tweepy.OAuthHandler(consumer_key, consumer_secret)\n",
    "auth.set_access_token(access_token, access_secret)\n",
    "\n",
    "api = tweepy.API(auth)"
   ]
  },
  {
   "cell_type": "markdown",
   "metadata": {},
   "source": [
    "...then create a `tweet_json.txt` file, get each tweet's status data with the tweepy `get_status` method, and store the JSON data in the text file:"
   ]
  },
  {
   "cell_type": "code",
   "execution_count": 128,
   "metadata": {},
   "outputs": [],
   "source": [
    "with open(\"tweet_json.txt\", mode = \"a\") as txt_file:\n",
    "    for tweet_id in twitter_archive.tweet_id:\n",
    "        try:\n",
    "            tweet = api.get_status(tweet_id, tweet_mode = \"extended\")\n",
    "            status = json.dumps(tweet._json)\n",
    "            txt_file.write(f\"{status}\\n\")\n",
    "        except:\n",
    "            pass"
   ]
  },
  {
   "cell_type": "markdown",
   "metadata": {},
   "source": [
    "Finally, I'll get each tweet's tweet id, retweet count, and favorite count with the json `loads` function, using lists to turn those values into the `refav_counts` table with the pandas `DataFrame` function:"
   ]
  },
  {
   "cell_type": "code",
   "execution_count": 5,
   "metadata": {},
   "outputs": [],
   "source": [
    "dataset = []\n",
    "with open(\"tweet_json_udacity.txt\") as file:\n",
    "    for line in file:\n",
    "        data = json.loads(line)\n",
    "        tweet_id = data[\"id\"]\n",
    "        retweet_count = data[\"retweet_count\"]\n",
    "        favorite_count = data[\"favorite_count\"]\n",
    "        dataset.append([tweet_id, retweet_count, favorite_count])\n",
    "        \n",
    "refav_counts = pd.DataFrame(dataset, columns = [\"tweet_id\", \"retweet_count\", \"favorite_count\"])"
   ]
  },
  {
   "cell_type": "markdown",
   "metadata": {},
   "source": [
    "<a id='assess'></a>\n",
    "## Assessing the Data\n",
    "\n",
    "Now that I've gathered all the necessary data, it's time to assess it.\n",
    "\n",
    "`twitter_archive`"
   ]
  },
  {
   "cell_type": "code",
   "execution_count": 5,
   "metadata": {
    "scrolled": true
   },
   "outputs": [
    {
     "data": {
      "text/html": [
       "<div>\n",
       "<style scoped>\n",
       "    .dataframe tbody tr th:only-of-type {\n",
       "        vertical-align: middle;\n",
       "    }\n",
       "\n",
       "    .dataframe tbody tr th {\n",
       "        vertical-align: top;\n",
       "    }\n",
       "\n",
       "    .dataframe thead th {\n",
       "        text-align: right;\n",
       "    }\n",
       "</style>\n",
       "<table border=\"1\" class=\"dataframe\">\n",
       "  <thead>\n",
       "    <tr style=\"text-align: right;\">\n",
       "      <th></th>\n",
       "      <th>tweet_id</th>\n",
       "      <th>in_reply_to_status_id</th>\n",
       "      <th>in_reply_to_user_id</th>\n",
       "      <th>timestamp</th>\n",
       "      <th>source</th>\n",
       "      <th>text</th>\n",
       "      <th>retweeted_status_id</th>\n",
       "      <th>retweeted_status_user_id</th>\n",
       "      <th>retweeted_status_timestamp</th>\n",
       "      <th>expanded_urls</th>\n",
       "      <th>rating_numerator</th>\n",
       "      <th>rating_denominator</th>\n",
       "      <th>name</th>\n",
       "      <th>doggo</th>\n",
       "      <th>floofer</th>\n",
       "      <th>pupper</th>\n",
       "      <th>puppo</th>\n",
       "    </tr>\n",
       "  </thead>\n",
       "  <tbody>\n",
       "    <tr>\n",
       "      <th>0</th>\n",
       "      <td>892420643555336193</td>\n",
       "      <td>NaN</td>\n",
       "      <td>NaN</td>\n",
       "      <td>2017-08-01 16:23:56 +0000</td>\n",
       "      <td>&lt;a href=\"http://twitter.com/download/iphone\" r...</td>\n",
       "      <td>This is Phineas. He's a mystical boy. Only eve...</td>\n",
       "      <td>NaN</td>\n",
       "      <td>NaN</td>\n",
       "      <td>NaN</td>\n",
       "      <td>https://twitter.com/dog_rates/status/892420643...</td>\n",
       "      <td>13</td>\n",
       "      <td>10</td>\n",
       "      <td>Phineas</td>\n",
       "      <td>None</td>\n",
       "      <td>None</td>\n",
       "      <td>None</td>\n",
       "      <td>None</td>\n",
       "    </tr>\n",
       "    <tr>\n",
       "      <th>1</th>\n",
       "      <td>892177421306343426</td>\n",
       "      <td>NaN</td>\n",
       "      <td>NaN</td>\n",
       "      <td>2017-08-01 00:17:27 +0000</td>\n",
       "      <td>&lt;a href=\"http://twitter.com/download/iphone\" r...</td>\n",
       "      <td>This is Tilly. She's just checking pup on you....</td>\n",
       "      <td>NaN</td>\n",
       "      <td>NaN</td>\n",
       "      <td>NaN</td>\n",
       "      <td>https://twitter.com/dog_rates/status/892177421...</td>\n",
       "      <td>13</td>\n",
       "      <td>10</td>\n",
       "      <td>Tilly</td>\n",
       "      <td>None</td>\n",
       "      <td>None</td>\n",
       "      <td>None</td>\n",
       "      <td>None</td>\n",
       "    </tr>\n",
       "    <tr>\n",
       "      <th>2</th>\n",
       "      <td>891815181378084864</td>\n",
       "      <td>NaN</td>\n",
       "      <td>NaN</td>\n",
       "      <td>2017-07-31 00:18:03 +0000</td>\n",
       "      <td>&lt;a href=\"http://twitter.com/download/iphone\" r...</td>\n",
       "      <td>This is Archie. He is a rare Norwegian Pouncin...</td>\n",
       "      <td>NaN</td>\n",
       "      <td>NaN</td>\n",
       "      <td>NaN</td>\n",
       "      <td>https://twitter.com/dog_rates/status/891815181...</td>\n",
       "      <td>12</td>\n",
       "      <td>10</td>\n",
       "      <td>Archie</td>\n",
       "      <td>None</td>\n",
       "      <td>None</td>\n",
       "      <td>None</td>\n",
       "      <td>None</td>\n",
       "    </tr>\n",
       "    <tr>\n",
       "      <th>3</th>\n",
       "      <td>891689557279858688</td>\n",
       "      <td>NaN</td>\n",
       "      <td>NaN</td>\n",
       "      <td>2017-07-30 15:58:51 +0000</td>\n",
       "      <td>&lt;a href=\"http://twitter.com/download/iphone\" r...</td>\n",
       "      <td>This is Darla. She commenced a snooze mid meal...</td>\n",
       "      <td>NaN</td>\n",
       "      <td>NaN</td>\n",
       "      <td>NaN</td>\n",
       "      <td>https://twitter.com/dog_rates/status/891689557...</td>\n",
       "      <td>13</td>\n",
       "      <td>10</td>\n",
       "      <td>Darla</td>\n",
       "      <td>None</td>\n",
       "      <td>None</td>\n",
       "      <td>None</td>\n",
       "      <td>None</td>\n",
       "    </tr>\n",
       "    <tr>\n",
       "      <th>4</th>\n",
       "      <td>891327558926688256</td>\n",
       "      <td>NaN</td>\n",
       "      <td>NaN</td>\n",
       "      <td>2017-07-29 16:00:24 +0000</td>\n",
       "      <td>&lt;a href=\"http://twitter.com/download/iphone\" r...</td>\n",
       "      <td>This is Franklin. He would like you to stop ca...</td>\n",
       "      <td>NaN</td>\n",
       "      <td>NaN</td>\n",
       "      <td>NaN</td>\n",
       "      <td>https://twitter.com/dog_rates/status/891327558...</td>\n",
       "      <td>12</td>\n",
       "      <td>10</td>\n",
       "      <td>Franklin</td>\n",
       "      <td>None</td>\n",
       "      <td>None</td>\n",
       "      <td>None</td>\n",
       "      <td>None</td>\n",
       "    </tr>\n",
       "  </tbody>\n",
       "</table>\n",
       "</div>"
      ],
      "text/plain": [
       "             tweet_id  in_reply_to_status_id  in_reply_to_user_id  \\\n",
       "0  892420643555336193                    NaN                  NaN   \n",
       "1  892177421306343426                    NaN                  NaN   \n",
       "2  891815181378084864                    NaN                  NaN   \n",
       "3  891689557279858688                    NaN                  NaN   \n",
       "4  891327558926688256                    NaN                  NaN   \n",
       "\n",
       "                   timestamp  \\\n",
       "0  2017-08-01 16:23:56 +0000   \n",
       "1  2017-08-01 00:17:27 +0000   \n",
       "2  2017-07-31 00:18:03 +0000   \n",
       "3  2017-07-30 15:58:51 +0000   \n",
       "4  2017-07-29 16:00:24 +0000   \n",
       "\n",
       "                                              source  \\\n",
       "0  <a href=\"http://twitter.com/download/iphone\" r...   \n",
       "1  <a href=\"http://twitter.com/download/iphone\" r...   \n",
       "2  <a href=\"http://twitter.com/download/iphone\" r...   \n",
       "3  <a href=\"http://twitter.com/download/iphone\" r...   \n",
       "4  <a href=\"http://twitter.com/download/iphone\" r...   \n",
       "\n",
       "                                                text  retweeted_status_id  \\\n",
       "0  This is Phineas. He's a mystical boy. Only eve...                  NaN   \n",
       "1  This is Tilly. She's just checking pup on you....                  NaN   \n",
       "2  This is Archie. He is a rare Norwegian Pouncin...                  NaN   \n",
       "3  This is Darla. She commenced a snooze mid meal...                  NaN   \n",
       "4  This is Franklin. He would like you to stop ca...                  NaN   \n",
       "\n",
       "   retweeted_status_user_id retweeted_status_timestamp  \\\n",
       "0                       NaN                        NaN   \n",
       "1                       NaN                        NaN   \n",
       "2                       NaN                        NaN   \n",
       "3                       NaN                        NaN   \n",
       "4                       NaN                        NaN   \n",
       "\n",
       "                                       expanded_urls  rating_numerator  \\\n",
       "0  https://twitter.com/dog_rates/status/892420643...                13   \n",
       "1  https://twitter.com/dog_rates/status/892177421...                13   \n",
       "2  https://twitter.com/dog_rates/status/891815181...                12   \n",
       "3  https://twitter.com/dog_rates/status/891689557...                13   \n",
       "4  https://twitter.com/dog_rates/status/891327558...                12   \n",
       "\n",
       "   rating_denominator      name doggo floofer pupper puppo  \n",
       "0                  10   Phineas  None    None   None  None  \n",
       "1                  10     Tilly  None    None   None  None  \n",
       "2                  10    Archie  None    None   None  None  \n",
       "3                  10     Darla  None    None   None  None  \n",
       "4                  10  Franklin  None    None   None  None  "
      ]
     },
     "execution_count": 5,
     "metadata": {},
     "output_type": "execute_result"
    }
   ],
   "source": [
    "twitter_archive.head()"
   ]
  },
  {
   "cell_type": "code",
   "execution_count": 16,
   "metadata": {
    "scrolled": true
   },
   "outputs": [
    {
     "name": "stdout",
     "output_type": "stream",
     "text": [
      "<class 'pandas.core.frame.DataFrame'>\n",
      "RangeIndex: 2356 entries, 0 to 2355\n",
      "Data columns (total 17 columns):\n",
      "tweet_id                      2356 non-null int64\n",
      "in_reply_to_status_id         78 non-null float64\n",
      "in_reply_to_user_id           78 non-null float64\n",
      "timestamp                     2356 non-null object\n",
      "source                        2356 non-null object\n",
      "text                          2356 non-null object\n",
      "retweeted_status_id           181 non-null float64\n",
      "retweeted_status_user_id      181 non-null float64\n",
      "retweeted_status_timestamp    181 non-null object\n",
      "expanded_urls                 2297 non-null object\n",
      "rating_numerator              2356 non-null int64\n",
      "rating_denominator            2356 non-null int64\n",
      "name                          2356 non-null object\n",
      "doggo                         2356 non-null object\n",
      "floofer                       2356 non-null object\n",
      "pupper                        2356 non-null object\n",
      "puppo                         2356 non-null object\n",
      "dtypes: float64(4), int64(3), object(10)\n",
      "memory usage: 313.0+ KB\n"
     ]
    }
   ],
   "source": [
    "twitter_archive.info()"
   ]
  },
  {
   "cell_type": "code",
   "execution_count": 13,
   "metadata": {
    "scrolled": false
   },
   "outputs": [
    {
     "data": {
      "text/plain": [
       "0"
      ]
     },
     "execution_count": 13,
     "metadata": {},
     "output_type": "execute_result"
    }
   ],
   "source": [
    "# Check for duplicate tweet ids\n",
    "twitter_archive.tweet_id.duplicated().sum()"
   ]
  },
  {
   "cell_type": "code",
   "execution_count": 5,
   "metadata": {},
   "outputs": [
    {
     "data": {
      "text/plain": [
       "181"
      ]
     },
     "execution_count": 5,
     "metadata": {},
     "output_type": "execute_result"
    }
   ],
   "source": [
    "# Number of retweets included in the dataset\n",
    "twitter_archive[twitter_archive.retweeted_status_id.notnull()].shape[0]"
   ]
  },
  {
   "cell_type": "code",
   "execution_count": 6,
   "metadata": {
    "scrolled": true
   },
   "outputs": [
    {
     "data": {
      "text/plain": [
       "78"
      ]
     },
     "execution_count": 6,
     "metadata": {},
     "output_type": "execute_result"
    }
   ],
   "source": [
    "# Number of replies included in the dataset\n",
    "twitter_archive[twitter_archive.in_reply_to_status_id.notnull()].shape[0]"
   ]
  },
  {
   "cell_type": "code",
   "execution_count": 79,
   "metadata": {},
   "outputs": [
    {
     "data": {
      "text/plain": [
       "23"
      ]
     },
     "execution_count": 79,
     "metadata": {},
     "output_type": "execute_result"
    }
   ],
   "source": [
    "# Number of rows with a denominator other than 10\n",
    "twitter_archive[twitter_archive.rating_denominator != 10].shape[0]"
   ]
  },
  {
   "cell_type": "code",
   "execution_count": 70,
   "metadata": {},
   "outputs": [
    {
     "data": {
      "text/plain": [
       "array([   0,    1,    2,    3,    4,    5,    6,    7,    8,    9,   10,\n",
       "         11,   12,   13,   14,   15,   17,   20,   24,   26,   27,   44,\n",
       "         45,   50,   60,   75,   80,   84,   88,   99,  121,  143,  144,\n",
       "        165,  182,  204,  420,  666,  960, 1776])"
      ]
     },
     "execution_count": 70,
     "metadata": {},
     "output_type": "execute_result"
    }
   ],
   "source": [
    "# A sorted array of unique rating numerator values\n",
    "twitter_archive.rating_numerator.sort_values().unique()"
   ]
  },
  {
   "cell_type": "code",
   "execution_count": 82,
   "metadata": {
    "scrolled": true
   },
   "outputs": [
    {
     "data": {
      "text/plain": [
       "28"
      ]
     },
     "execution_count": 82,
     "metadata": {},
     "output_type": "execute_result"
    }
   ],
   "source": [
    "# Number of rows with a rating numerator higher than 14\n",
    "twitter_archive[twitter_archive.rating_numerator > 14].shape[0]"
   ]
  },
  {
   "cell_type": "code",
   "execution_count": 86,
   "metadata": {
    "scrolled": true
   },
   "outputs": [
    {
     "data": {
      "text/html": [
       "<div>\n",
       "<style scoped>\n",
       "    .dataframe tbody tr th:only-of-type {\n",
       "        vertical-align: middle;\n",
       "    }\n",
       "\n",
       "    .dataframe tbody tr th {\n",
       "        vertical-align: top;\n",
       "    }\n",
       "\n",
       "    .dataframe thead th {\n",
       "        text-align: right;\n",
       "    }\n",
       "</style>\n",
       "<table border=\"1\" class=\"dataframe\">\n",
       "  <thead>\n",
       "    <tr style=\"text-align: right;\">\n",
       "      <th></th>\n",
       "      <th>tweet_id</th>\n",
       "      <th>in_reply_to_status_id</th>\n",
       "      <th>in_reply_to_user_id</th>\n",
       "      <th>timestamp</th>\n",
       "      <th>source</th>\n",
       "      <th>text</th>\n",
       "      <th>retweeted_status_id</th>\n",
       "      <th>retweeted_status_user_id</th>\n",
       "      <th>retweeted_status_timestamp</th>\n",
       "      <th>expanded_urls</th>\n",
       "      <th>rating_numerator</th>\n",
       "      <th>rating_denominator</th>\n",
       "      <th>name</th>\n",
       "      <th>doggo</th>\n",
       "      <th>floofer</th>\n",
       "      <th>pupper</th>\n",
       "      <th>puppo</th>\n",
       "    </tr>\n",
       "  </thead>\n",
       "  <tbody>\n",
       "    <tr>\n",
       "      <th>55</th>\n",
       "      <td>881633300179243008</td>\n",
       "      <td>8.816070e+17</td>\n",
       "      <td>4.738443e+07</td>\n",
       "      <td>2017-07-02 21:58:53 +0000</td>\n",
       "      <td>&lt;a href=\"http://twitter.com/download/iphone\" r...</td>\n",
       "      <td>@roushfenway These are good dogs but 17/10 is ...</td>\n",
       "      <td>NaN</td>\n",
       "      <td>NaN</td>\n",
       "      <td>NaN</td>\n",
       "      <td>NaN</td>\n",
       "      <td>17</td>\n",
       "      <td>10</td>\n",
       "      <td>None</td>\n",
       "      <td>None</td>\n",
       "      <td>None</td>\n",
       "      <td>None</td>\n",
       "      <td>None</td>\n",
       "    </tr>\n",
       "    <tr>\n",
       "      <th>188</th>\n",
       "      <td>855862651834028034</td>\n",
       "      <td>8.558616e+17</td>\n",
       "      <td>1.943518e+08</td>\n",
       "      <td>2017-04-22 19:15:32 +0000</td>\n",
       "      <td>&lt;a href=\"http://twitter.com/download/iphone\" r...</td>\n",
       "      <td>@dhmontgomery We also gave snoop dogg a 420/10...</td>\n",
       "      <td>NaN</td>\n",
       "      <td>NaN</td>\n",
       "      <td>NaN</td>\n",
       "      <td>NaN</td>\n",
       "      <td>420</td>\n",
       "      <td>10</td>\n",
       "      <td>None</td>\n",
       "      <td>None</td>\n",
       "      <td>None</td>\n",
       "      <td>None</td>\n",
       "      <td>None</td>\n",
       "    </tr>\n",
       "    <tr>\n",
       "      <th>189</th>\n",
       "      <td>855860136149123072</td>\n",
       "      <td>8.558585e+17</td>\n",
       "      <td>1.361572e+07</td>\n",
       "      <td>2017-04-22 19:05:32 +0000</td>\n",
       "      <td>&lt;a href=\"http://twitter.com/download/iphone\" r...</td>\n",
       "      <td>@s8n You tried very hard to portray this good ...</td>\n",
       "      <td>NaN</td>\n",
       "      <td>NaN</td>\n",
       "      <td>NaN</td>\n",
       "      <td>NaN</td>\n",
       "      <td>666</td>\n",
       "      <td>10</td>\n",
       "      <td>None</td>\n",
       "      <td>None</td>\n",
       "      <td>None</td>\n",
       "      <td>None</td>\n",
       "      <td>None</td>\n",
       "    </tr>\n",
       "    <tr>\n",
       "      <th>285</th>\n",
       "      <td>838916489579200512</td>\n",
       "      <td>NaN</td>\n",
       "      <td>NaN</td>\n",
       "      <td>2017-03-07 00:57:32 +0000</td>\n",
       "      <td>&lt;a href=\"http://twitter.com/download/iphone\" r...</td>\n",
       "      <td>RT @KibaDva: I collected all the good dogs!! 1...</td>\n",
       "      <td>8.389060e+17</td>\n",
       "      <td>8.117408e+08</td>\n",
       "      <td>2017-03-07 00:15:46 +0000</td>\n",
       "      <td>https://twitter.com/KibaDva/status/83890598062...</td>\n",
       "      <td>15</td>\n",
       "      <td>10</td>\n",
       "      <td>None</td>\n",
       "      <td>None</td>\n",
       "      <td>None</td>\n",
       "      <td>None</td>\n",
       "      <td>None</td>\n",
       "    </tr>\n",
       "    <tr>\n",
       "      <th>290</th>\n",
       "      <td>838150277551247360</td>\n",
       "      <td>8.381455e+17</td>\n",
       "      <td>2.195506e+07</td>\n",
       "      <td>2017-03-04 22:12:52 +0000</td>\n",
       "      <td>&lt;a href=\"http://twitter.com/download/iphone\" r...</td>\n",
       "      <td>@markhoppus 182/10</td>\n",
       "      <td>NaN</td>\n",
       "      <td>NaN</td>\n",
       "      <td>NaN</td>\n",
       "      <td>NaN</td>\n",
       "      <td>182</td>\n",
       "      <td>10</td>\n",
       "      <td>None</td>\n",
       "      <td>None</td>\n",
       "      <td>None</td>\n",
       "      <td>None</td>\n",
       "      <td>None</td>\n",
       "    </tr>\n",
       "    <tr>\n",
       "      <th>291</th>\n",
       "      <td>838085839343206401</td>\n",
       "      <td>8.380855e+17</td>\n",
       "      <td>2.894131e+09</td>\n",
       "      <td>2017-03-04 17:56:49 +0000</td>\n",
       "      <td>&lt;a href=\"http://twitter.com/download/iphone\" r...</td>\n",
       "      <td>@bragg6of8 @Andy_Pace_ we are still looking fo...</td>\n",
       "      <td>NaN</td>\n",
       "      <td>NaN</td>\n",
       "      <td>NaN</td>\n",
       "      <td>NaN</td>\n",
       "      <td>15</td>\n",
       "      <td>10</td>\n",
       "      <td>None</td>\n",
       "      <td>None</td>\n",
       "      <td>None</td>\n",
       "      <td>None</td>\n",
       "      <td>None</td>\n",
       "    </tr>\n",
       "    <tr>\n",
       "      <th>340</th>\n",
       "      <td>832215909146226688</td>\n",
       "      <td>NaN</td>\n",
       "      <td>NaN</td>\n",
       "      <td>2017-02-16 13:11:49 +0000</td>\n",
       "      <td>&lt;a href=\"http://twitter.com/download/iphone\" r...</td>\n",
       "      <td>RT @dog_rates: This is Logan, the Chow who liv...</td>\n",
       "      <td>7.867091e+17</td>\n",
       "      <td>4.196984e+09</td>\n",
       "      <td>2016-10-13 23:23:56 +0000</td>\n",
       "      <td>https://twitter.com/dog_rates/status/786709082...</td>\n",
       "      <td>75</td>\n",
       "      <td>10</td>\n",
       "      <td>Logan</td>\n",
       "      <td>None</td>\n",
       "      <td>None</td>\n",
       "      <td>None</td>\n",
       "      <td>None</td>\n",
       "    </tr>\n",
       "    <tr>\n",
       "      <th>695</th>\n",
       "      <td>786709082849828864</td>\n",
       "      <td>NaN</td>\n",
       "      <td>NaN</td>\n",
       "      <td>2016-10-13 23:23:56 +0000</td>\n",
       "      <td>&lt;a href=\"http://twitter.com/download/iphone\" r...</td>\n",
       "      <td>This is Logan, the Chow who lived. He solemnly...</td>\n",
       "      <td>NaN</td>\n",
       "      <td>NaN</td>\n",
       "      <td>NaN</td>\n",
       "      <td>https://twitter.com/dog_rates/status/786709082...</td>\n",
       "      <td>75</td>\n",
       "      <td>10</td>\n",
       "      <td>Logan</td>\n",
       "      <td>None</td>\n",
       "      <td>None</td>\n",
       "      <td>None</td>\n",
       "      <td>None</td>\n",
       "    </tr>\n",
       "    <tr>\n",
       "      <th>763</th>\n",
       "      <td>778027034220126208</td>\n",
       "      <td>NaN</td>\n",
       "      <td>NaN</td>\n",
       "      <td>2016-09-20 00:24:34 +0000</td>\n",
       "      <td>&lt;a href=\"http://twitter.com/download/iphone\" r...</td>\n",
       "      <td>This is Sophie. She's a Jubilant Bush Pupper. ...</td>\n",
       "      <td>NaN</td>\n",
       "      <td>NaN</td>\n",
       "      <td>NaN</td>\n",
       "      <td>https://twitter.com/dog_rates/status/778027034...</td>\n",
       "      <td>27</td>\n",
       "      <td>10</td>\n",
       "      <td>Sophie</td>\n",
       "      <td>None</td>\n",
       "      <td>None</td>\n",
       "      <td>pupper</td>\n",
       "      <td>None</td>\n",
       "    </tr>\n",
       "    <tr>\n",
       "      <th>979</th>\n",
       "      <td>749981277374128128</td>\n",
       "      <td>NaN</td>\n",
       "      <td>NaN</td>\n",
       "      <td>2016-07-04 15:00:45 +0000</td>\n",
       "      <td>&lt;a href=\"https://about.twitter.com/products/tw...</td>\n",
       "      <td>This is Atticus. He's quite simply America af....</td>\n",
       "      <td>NaN</td>\n",
       "      <td>NaN</td>\n",
       "      <td>NaN</td>\n",
       "      <td>https://twitter.com/dog_rates/status/749981277...</td>\n",
       "      <td>1776</td>\n",
       "      <td>10</td>\n",
       "      <td>Atticus</td>\n",
       "      <td>None</td>\n",
       "      <td>None</td>\n",
       "      <td>None</td>\n",
       "      <td>None</td>\n",
       "    </tr>\n",
       "    <tr>\n",
       "      <th>1712</th>\n",
       "      <td>680494726643068929</td>\n",
       "      <td>NaN</td>\n",
       "      <td>NaN</td>\n",
       "      <td>2015-12-25 21:06:00 +0000</td>\n",
       "      <td>&lt;a href=\"http://twitter.com/download/iphone\" r...</td>\n",
       "      <td>Here we have uncovered an entire battalion of ...</td>\n",
       "      <td>NaN</td>\n",
       "      <td>NaN</td>\n",
       "      <td>NaN</td>\n",
       "      <td>https://twitter.com/dog_rates/status/680494726...</td>\n",
       "      <td>26</td>\n",
       "      <td>10</td>\n",
       "      <td>None</td>\n",
       "      <td>None</td>\n",
       "      <td>None</td>\n",
       "      <td>None</td>\n",
       "      <td>None</td>\n",
       "    </tr>\n",
       "    <tr>\n",
       "      <th>2074</th>\n",
       "      <td>670842764863651840</td>\n",
       "      <td>NaN</td>\n",
       "      <td>NaN</td>\n",
       "      <td>2015-11-29 05:52:33 +0000</td>\n",
       "      <td>&lt;a href=\"http://twitter.com/download/iphone\" r...</td>\n",
       "      <td>After so many requests... here you go.\\n\\nGood...</td>\n",
       "      <td>NaN</td>\n",
       "      <td>NaN</td>\n",
       "      <td>NaN</td>\n",
       "      <td>https://twitter.com/dog_rates/status/670842764...</td>\n",
       "      <td>420</td>\n",
       "      <td>10</td>\n",
       "      <td>None</td>\n",
       "      <td>None</td>\n",
       "      <td>None</td>\n",
       "      <td>None</td>\n",
       "      <td>None</td>\n",
       "    </tr>\n",
       "  </tbody>\n",
       "</table>\n",
       "</div>"
      ],
      "text/plain": [
       "                tweet_id  in_reply_to_status_id  in_reply_to_user_id  \\\n",
       "55    881633300179243008           8.816070e+17         4.738443e+07   \n",
       "188   855862651834028034           8.558616e+17         1.943518e+08   \n",
       "189   855860136149123072           8.558585e+17         1.361572e+07   \n",
       "285   838916489579200512                    NaN                  NaN   \n",
       "290   838150277551247360           8.381455e+17         2.195506e+07   \n",
       "291   838085839343206401           8.380855e+17         2.894131e+09   \n",
       "340   832215909146226688                    NaN                  NaN   \n",
       "695   786709082849828864                    NaN                  NaN   \n",
       "763   778027034220126208                    NaN                  NaN   \n",
       "979   749981277374128128                    NaN                  NaN   \n",
       "1712  680494726643068929                    NaN                  NaN   \n",
       "2074  670842764863651840                    NaN                  NaN   \n",
       "\n",
       "                      timestamp  \\\n",
       "55    2017-07-02 21:58:53 +0000   \n",
       "188   2017-04-22 19:15:32 +0000   \n",
       "189   2017-04-22 19:05:32 +0000   \n",
       "285   2017-03-07 00:57:32 +0000   \n",
       "290   2017-03-04 22:12:52 +0000   \n",
       "291   2017-03-04 17:56:49 +0000   \n",
       "340   2017-02-16 13:11:49 +0000   \n",
       "695   2016-10-13 23:23:56 +0000   \n",
       "763   2016-09-20 00:24:34 +0000   \n",
       "979   2016-07-04 15:00:45 +0000   \n",
       "1712  2015-12-25 21:06:00 +0000   \n",
       "2074  2015-11-29 05:52:33 +0000   \n",
       "\n",
       "                                                 source  \\\n",
       "55    <a href=\"http://twitter.com/download/iphone\" r...   \n",
       "188   <a href=\"http://twitter.com/download/iphone\" r...   \n",
       "189   <a href=\"http://twitter.com/download/iphone\" r...   \n",
       "285   <a href=\"http://twitter.com/download/iphone\" r...   \n",
       "290   <a href=\"http://twitter.com/download/iphone\" r...   \n",
       "291   <a href=\"http://twitter.com/download/iphone\" r...   \n",
       "340   <a href=\"http://twitter.com/download/iphone\" r...   \n",
       "695   <a href=\"http://twitter.com/download/iphone\" r...   \n",
       "763   <a href=\"http://twitter.com/download/iphone\" r...   \n",
       "979   <a href=\"https://about.twitter.com/products/tw...   \n",
       "1712  <a href=\"http://twitter.com/download/iphone\" r...   \n",
       "2074  <a href=\"http://twitter.com/download/iphone\" r...   \n",
       "\n",
       "                                                   text  retweeted_status_id  \\\n",
       "55    @roushfenway These are good dogs but 17/10 is ...                  NaN   \n",
       "188   @dhmontgomery We also gave snoop dogg a 420/10...                  NaN   \n",
       "189   @s8n You tried very hard to portray this good ...                  NaN   \n",
       "285   RT @KibaDva: I collected all the good dogs!! 1...         8.389060e+17   \n",
       "290                                  @markhoppus 182/10                  NaN   \n",
       "291   @bragg6of8 @Andy_Pace_ we are still looking fo...                  NaN   \n",
       "340   RT @dog_rates: This is Logan, the Chow who liv...         7.867091e+17   \n",
       "695   This is Logan, the Chow who lived. He solemnly...                  NaN   \n",
       "763   This is Sophie. She's a Jubilant Bush Pupper. ...                  NaN   \n",
       "979   This is Atticus. He's quite simply America af....                  NaN   \n",
       "1712  Here we have uncovered an entire battalion of ...                  NaN   \n",
       "2074  After so many requests... here you go.\\n\\nGood...                  NaN   \n",
       "\n",
       "      retweeted_status_user_id retweeted_status_timestamp  \\\n",
       "55                         NaN                        NaN   \n",
       "188                        NaN                        NaN   \n",
       "189                        NaN                        NaN   \n",
       "285               8.117408e+08  2017-03-07 00:15:46 +0000   \n",
       "290                        NaN                        NaN   \n",
       "291                        NaN                        NaN   \n",
       "340               4.196984e+09  2016-10-13 23:23:56 +0000   \n",
       "695                        NaN                        NaN   \n",
       "763                        NaN                        NaN   \n",
       "979                        NaN                        NaN   \n",
       "1712                       NaN                        NaN   \n",
       "2074                       NaN                        NaN   \n",
       "\n",
       "                                          expanded_urls  rating_numerator  \\\n",
       "55                                                  NaN                17   \n",
       "188                                                 NaN               420   \n",
       "189                                                 NaN               666   \n",
       "285   https://twitter.com/KibaDva/status/83890598062...                15   \n",
       "290                                                 NaN               182   \n",
       "291                                                 NaN                15   \n",
       "340   https://twitter.com/dog_rates/status/786709082...                75   \n",
       "695   https://twitter.com/dog_rates/status/786709082...                75   \n",
       "763   https://twitter.com/dog_rates/status/778027034...                27   \n",
       "979   https://twitter.com/dog_rates/status/749981277...              1776   \n",
       "1712  https://twitter.com/dog_rates/status/680494726...                26   \n",
       "2074  https://twitter.com/dog_rates/status/670842764...               420   \n",
       "\n",
       "      rating_denominator     name doggo floofer  pupper puppo  \n",
       "55                    10     None  None    None    None  None  \n",
       "188                   10     None  None    None    None  None  \n",
       "189                   10     None  None    None    None  None  \n",
       "285                   10     None  None    None    None  None  \n",
       "290                   10     None  None    None    None  None  \n",
       "291                   10     None  None    None    None  None  \n",
       "340                   10    Logan  None    None    None  None  \n",
       "695                   10    Logan  None    None    None  None  \n",
       "763                   10   Sophie  None    None  pupper  None  \n",
       "979                   10  Atticus  None    None    None  None  \n",
       "1712                  10     None  None    None    None  None  \n",
       "2074                  10     None  None    None    None  None  "
      ]
     },
     "execution_count": 86,
     "metadata": {},
     "output_type": "execute_result"
    }
   ],
   "source": [
    "# The 12 rows with a rating numerator larger than 14 and a rating denominator of 10\n",
    "twitter_archive[(twitter_archive.rating_numerator > 14) & (twitter_archive.rating_denominator == 10)]"
   ]
  },
  {
   "cell_type": "code",
   "execution_count": 107,
   "metadata": {
    "scrolled": true
   },
   "outputs": [
    {
     "data": {
      "text/plain": [
       "None            745\n",
       "a                55\n",
       "Charlie          12\n",
       "Oliver           11\n",
       "Cooper           11\n",
       "Lucy             11\n",
       "Lola             10\n",
       "Tucker           10\n",
       "Penny            10\n",
       "Winston           9\n",
       "Bo                9\n",
       "Sadie             8\n",
       "the               8\n",
       "Bailey            7\n",
       "an                7\n",
       "Toby              7\n",
       "Buddy             7\n",
       "Daisy             7\n",
       "Bella             6\n",
       "Rusty             6\n",
       "Jack              6\n",
       "Oscar             6\n",
       "Scout             6\n",
       "Dave              6\n",
       "Leo               6\n",
       "Koda              6\n",
       "Milo              6\n",
       "Jax               6\n",
       "Stanley           6\n",
       "Oakley            5\n",
       "               ... \n",
       "Dante             1\n",
       "Divine            1\n",
       "Todo              1\n",
       "Tonks             1\n",
       "Dewey             1\n",
       "Boston            1\n",
       "Severus           1\n",
       "Margo             1\n",
       "Kaiya             1\n",
       "Batdog            1\n",
       "Mauve             1\n",
       "Gabby             1\n",
       "Willem            1\n",
       "Birf              1\n",
       "Strudel           1\n",
       "Buddah            1\n",
       "Brooks            1\n",
       "Danny             1\n",
       "Skittles          1\n",
       "Bradlay           1\n",
       "Glenn             1\n",
       "Raphael           1\n",
       "Swagger           1\n",
       "unacceptable      1\n",
       "Doobert           1\n",
       "Pippin            1\n",
       "Clarq             1\n",
       "Einstein          1\n",
       "Maisey            1\n",
       "Timofy            1\n",
       "Name: name, Length: 957, dtype: int64"
      ]
     },
     "execution_count": 107,
     "metadata": {},
     "output_type": "execute_result"
    }
   ],
   "source": [
    "twitter_archive.name.sort_values().value_counts()"
   ]
  },
  {
   "cell_type": "code",
   "execution_count": 106,
   "metadata": {
    "scrolled": true
   },
   "outputs": [
    {
     "data": {
      "text/plain": [
       "a               55\n",
       "the              8\n",
       "an               7\n",
       "very             5\n",
       "one              4\n",
       "just             4\n",
       "quite            4\n",
       "mad              2\n",
       "not              2\n",
       "getting          2\n",
       "actually         2\n",
       "his              1\n",
       "all              1\n",
       "infuriating      1\n",
       "life             1\n",
       "old              1\n",
       "unacceptable     1\n",
       "my               1\n",
       "incredibly       1\n",
       "light            1\n",
       "officially       1\n",
       "by               1\n",
       "such             1\n",
       "space            1\n",
       "this             1\n",
       "Name: name, dtype: int64"
      ]
     },
     "execution_count": 106,
     "metadata": {},
     "output_type": "execute_result"
    }
   ],
   "source": [
    "# A list of the unique names which begin with a lowercase letter\n",
    "twitter_archive[twitter_archive.name.str[0].str.islower()].name.value_counts()"
   ]
  },
  {
   "cell_type": "code",
   "execution_count": 97,
   "metadata": {
    "scrolled": true
   },
   "outputs": [
    {
     "data": {
      "text/plain": [
       "109"
      ]
     },
     "execution_count": 97,
     "metadata": {},
     "output_type": "execute_result"
    }
   ],
   "source": [
    "# Number of rows in which the name begins with a lowercase letter\n",
    "twitter_archive[twitter_archive.name.str[0].str.islower()].name.shape[0]"
   ]
  },
  {
   "cell_type": "code",
   "execution_count": 12,
   "metadata": {},
   "outputs": [
    {
     "data": {
      "text/plain": [
       "59"
      ]
     },
     "execution_count": 12,
     "metadata": {},
     "output_type": "execute_result"
    }
   ],
   "source": [
    "# Number of missing 'expanded_urls' values\n",
    "twitter_archive[twitter_archive.expanded_urls.isnull()].shape[0]"
   ]
  },
  {
   "cell_type": "code",
   "execution_count": 15,
   "metadata": {},
   "outputs": [
    {
     "data": {
      "text/html": [
       "<div>\n",
       "<style scoped>\n",
       "    .dataframe tbody tr th:only-of-type {\n",
       "        vertical-align: middle;\n",
       "    }\n",
       "\n",
       "    .dataframe tbody tr th {\n",
       "        vertical-align: top;\n",
       "    }\n",
       "\n",
       "    .dataframe thead th {\n",
       "        text-align: right;\n",
       "    }\n",
       "</style>\n",
       "<table border=\"1\" class=\"dataframe\">\n",
       "  <thead>\n",
       "    <tr style=\"text-align: right;\">\n",
       "      <th></th>\n",
       "      <th>tweet_id</th>\n",
       "      <th>in_reply_to_status_id</th>\n",
       "      <th>in_reply_to_user_id</th>\n",
       "      <th>timestamp</th>\n",
       "      <th>source</th>\n",
       "      <th>text</th>\n",
       "      <th>retweeted_status_id</th>\n",
       "      <th>retweeted_status_user_id</th>\n",
       "      <th>retweeted_status_timestamp</th>\n",
       "      <th>expanded_urls</th>\n",
       "      <th>rating_numerator</th>\n",
       "      <th>rating_denominator</th>\n",
       "      <th>name</th>\n",
       "      <th>doggo</th>\n",
       "      <th>floofer</th>\n",
       "      <th>pupper</th>\n",
       "      <th>puppo</th>\n",
       "    </tr>\n",
       "  </thead>\n",
       "  <tbody>\n",
       "    <tr>\n",
       "      <th>185</th>\n",
       "      <td>856330835276025856</td>\n",
       "      <td>NaN</td>\n",
       "      <td>NaN</td>\n",
       "      <td>2017-04-24 02:15:55 +0000</td>\n",
       "      <td>&lt;a href=\"http://twitter.com/download/iphone\" r...</td>\n",
       "      <td>RT @Jenna_Marbles: @dog_rates Thanks for ratin...</td>\n",
       "      <td>8.563302e+17</td>\n",
       "      <td>66699013.0</td>\n",
       "      <td>2017-04-24 02:13:14 +0000</td>\n",
       "      <td>NaN</td>\n",
       "      <td>14</td>\n",
       "      <td>10</td>\n",
       "      <td>None</td>\n",
       "      <td>None</td>\n",
       "      <td>None</td>\n",
       "      <td>None</td>\n",
       "      <td>None</td>\n",
       "    </tr>\n",
       "    <tr>\n",
       "      <th>375</th>\n",
       "      <td>828361771580813312</td>\n",
       "      <td>NaN</td>\n",
       "      <td>NaN</td>\n",
       "      <td>2017-02-05 21:56:51 +0000</td>\n",
       "      <td>&lt;a href=\"http://twitter.com\" rel=\"nofollow\"&gt;Tw...</td>\n",
       "      <td>Beebop and Doobert should start a band 12/10 w...</td>\n",
       "      <td>NaN</td>\n",
       "      <td>NaN</td>\n",
       "      <td>NaN</td>\n",
       "      <td>NaN</td>\n",
       "      <td>12</td>\n",
       "      <td>10</td>\n",
       "      <td>None</td>\n",
       "      <td>None</td>\n",
       "      <td>None</td>\n",
       "      <td>None</td>\n",
       "      <td>None</td>\n",
       "    </tr>\n",
       "    <tr>\n",
       "      <th>707</th>\n",
       "      <td>785515384317313025</td>\n",
       "      <td>NaN</td>\n",
       "      <td>NaN</td>\n",
       "      <td>2016-10-10 16:20:36 +0000</td>\n",
       "      <td>&lt;a href=\"http://twitter.com/download/iphone\" r...</td>\n",
       "      <td>Today, 10/10, should be National Dog Rates Day</td>\n",
       "      <td>NaN</td>\n",
       "      <td>NaN</td>\n",
       "      <td>NaN</td>\n",
       "      <td>NaN</td>\n",
       "      <td>10</td>\n",
       "      <td>10</td>\n",
       "      <td>None</td>\n",
       "      <td>None</td>\n",
       "      <td>None</td>\n",
       "      <td>None</td>\n",
       "      <td>None</td>\n",
       "    </tr>\n",
       "    <tr>\n",
       "      <th>1445</th>\n",
       "      <td>696518437233913856</td>\n",
       "      <td>NaN</td>\n",
       "      <td>NaN</td>\n",
       "      <td>2016-02-08 02:18:30 +0000</td>\n",
       "      <td>&lt;a href=\"http://twitter.com/download/iphone\" r...</td>\n",
       "      <td>Oh my god 10/10 for every little hot dog pupper</td>\n",
       "      <td>NaN</td>\n",
       "      <td>NaN</td>\n",
       "      <td>NaN</td>\n",
       "      <td>NaN</td>\n",
       "      <td>10</td>\n",
       "      <td>10</td>\n",
       "      <td>None</td>\n",
       "      <td>None</td>\n",
       "      <td>None</td>\n",
       "      <td>pupper</td>\n",
       "      <td>None</td>\n",
       "    </tr>\n",
       "  </tbody>\n",
       "</table>\n",
       "</div>"
      ],
      "text/plain": [
       "                tweet_id  in_reply_to_status_id  in_reply_to_user_id  \\\n",
       "185   856330835276025856                    NaN                  NaN   \n",
       "375   828361771580813312                    NaN                  NaN   \n",
       "707   785515384317313025                    NaN                  NaN   \n",
       "1445  696518437233913856                    NaN                  NaN   \n",
       "\n",
       "                      timestamp  \\\n",
       "185   2017-04-24 02:15:55 +0000   \n",
       "375   2017-02-05 21:56:51 +0000   \n",
       "707   2016-10-10 16:20:36 +0000   \n",
       "1445  2016-02-08 02:18:30 +0000   \n",
       "\n",
       "                                                 source  \\\n",
       "185   <a href=\"http://twitter.com/download/iphone\" r...   \n",
       "375   <a href=\"http://twitter.com\" rel=\"nofollow\">Tw...   \n",
       "707   <a href=\"http://twitter.com/download/iphone\" r...   \n",
       "1445  <a href=\"http://twitter.com/download/iphone\" r...   \n",
       "\n",
       "                                                   text  retweeted_status_id  \\\n",
       "185   RT @Jenna_Marbles: @dog_rates Thanks for ratin...         8.563302e+17   \n",
       "375   Beebop and Doobert should start a band 12/10 w...                  NaN   \n",
       "707      Today, 10/10, should be National Dog Rates Day                  NaN   \n",
       "1445    Oh my god 10/10 for every little hot dog pupper                  NaN   \n",
       "\n",
       "      retweeted_status_user_id retweeted_status_timestamp expanded_urls  \\\n",
       "185                 66699013.0  2017-04-24 02:13:14 +0000           NaN   \n",
       "375                        NaN                        NaN           NaN   \n",
       "707                        NaN                        NaN           NaN   \n",
       "1445                       NaN                        NaN           NaN   \n",
       "\n",
       "      rating_numerator  rating_denominator  name doggo floofer  pupper puppo  \n",
       "185                 14                  10  None  None    None    None  None  \n",
       "375                 12                  10  None  None    None    None  None  \n",
       "707                 10                  10  None  None    None    None  None  \n",
       "1445                10                  10  None  None    None  pupper  None  "
      ]
     },
     "execution_count": 15,
     "metadata": {},
     "output_type": "execute_result"
    }
   ],
   "source": [
    "# Rows with missing 'expanded_urls' values which are not replies\n",
    "twitter_archive[(twitter_archive.expanded_urls.isnull()) & (twitter_archive.in_reply_to_status_id.isnull())]"
   ]
  },
  {
   "cell_type": "markdown",
   "metadata": {},
   "source": [
    "`image_predictions`"
   ]
  },
  {
   "cell_type": "code",
   "execution_count": 17,
   "metadata": {
    "scrolled": false
   },
   "outputs": [
    {
     "data": {
      "text/html": [
       "<div>\n",
       "<style scoped>\n",
       "    .dataframe tbody tr th:only-of-type {\n",
       "        vertical-align: middle;\n",
       "    }\n",
       "\n",
       "    .dataframe tbody tr th {\n",
       "        vertical-align: top;\n",
       "    }\n",
       "\n",
       "    .dataframe thead th {\n",
       "        text-align: right;\n",
       "    }\n",
       "</style>\n",
       "<table border=\"1\" class=\"dataframe\">\n",
       "  <thead>\n",
       "    <tr style=\"text-align: right;\">\n",
       "      <th></th>\n",
       "      <th>tweet_id</th>\n",
       "      <th>jpg_url</th>\n",
       "      <th>img_num</th>\n",
       "      <th>p1</th>\n",
       "      <th>p1_conf</th>\n",
       "      <th>p1_dog</th>\n",
       "      <th>p2</th>\n",
       "      <th>p2_conf</th>\n",
       "      <th>p2_dog</th>\n",
       "      <th>p3</th>\n",
       "      <th>p3_conf</th>\n",
       "      <th>p3_dog</th>\n",
       "    </tr>\n",
       "  </thead>\n",
       "  <tbody>\n",
       "    <tr>\n",
       "      <th>0</th>\n",
       "      <td>666020888022790149</td>\n",
       "      <td>https://pbs.twimg.com/media/CT4udn0WwAA0aMy.jpg</td>\n",
       "      <td>1</td>\n",
       "      <td>Welsh_springer_spaniel</td>\n",
       "      <td>0.465074</td>\n",
       "      <td>True</td>\n",
       "      <td>collie</td>\n",
       "      <td>0.156665</td>\n",
       "      <td>True</td>\n",
       "      <td>Shetland_sheepdog</td>\n",
       "      <td>0.061428</td>\n",
       "      <td>True</td>\n",
       "    </tr>\n",
       "    <tr>\n",
       "      <th>1</th>\n",
       "      <td>666029285002620928</td>\n",
       "      <td>https://pbs.twimg.com/media/CT42GRgUYAA5iDo.jpg</td>\n",
       "      <td>1</td>\n",
       "      <td>redbone</td>\n",
       "      <td>0.506826</td>\n",
       "      <td>True</td>\n",
       "      <td>miniature_pinscher</td>\n",
       "      <td>0.074192</td>\n",
       "      <td>True</td>\n",
       "      <td>Rhodesian_ridgeback</td>\n",
       "      <td>0.072010</td>\n",
       "      <td>True</td>\n",
       "    </tr>\n",
       "    <tr>\n",
       "      <th>2</th>\n",
       "      <td>666033412701032449</td>\n",
       "      <td>https://pbs.twimg.com/media/CT4521TWwAEvMyu.jpg</td>\n",
       "      <td>1</td>\n",
       "      <td>German_shepherd</td>\n",
       "      <td>0.596461</td>\n",
       "      <td>True</td>\n",
       "      <td>malinois</td>\n",
       "      <td>0.138584</td>\n",
       "      <td>True</td>\n",
       "      <td>bloodhound</td>\n",
       "      <td>0.116197</td>\n",
       "      <td>True</td>\n",
       "    </tr>\n",
       "    <tr>\n",
       "      <th>3</th>\n",
       "      <td>666044226329800704</td>\n",
       "      <td>https://pbs.twimg.com/media/CT5Dr8HUEAA-lEu.jpg</td>\n",
       "      <td>1</td>\n",
       "      <td>Rhodesian_ridgeback</td>\n",
       "      <td>0.408143</td>\n",
       "      <td>True</td>\n",
       "      <td>redbone</td>\n",
       "      <td>0.360687</td>\n",
       "      <td>True</td>\n",
       "      <td>miniature_pinscher</td>\n",
       "      <td>0.222752</td>\n",
       "      <td>True</td>\n",
       "    </tr>\n",
       "    <tr>\n",
       "      <th>4</th>\n",
       "      <td>666049248165822465</td>\n",
       "      <td>https://pbs.twimg.com/media/CT5IQmsXIAAKY4A.jpg</td>\n",
       "      <td>1</td>\n",
       "      <td>miniature_pinscher</td>\n",
       "      <td>0.560311</td>\n",
       "      <td>True</td>\n",
       "      <td>Rottweiler</td>\n",
       "      <td>0.243682</td>\n",
       "      <td>True</td>\n",
       "      <td>Doberman</td>\n",
       "      <td>0.154629</td>\n",
       "      <td>True</td>\n",
       "    </tr>\n",
       "  </tbody>\n",
       "</table>\n",
       "</div>"
      ],
      "text/plain": [
       "             tweet_id                                          jpg_url  \\\n",
       "0  666020888022790149  https://pbs.twimg.com/media/CT4udn0WwAA0aMy.jpg   \n",
       "1  666029285002620928  https://pbs.twimg.com/media/CT42GRgUYAA5iDo.jpg   \n",
       "2  666033412701032449  https://pbs.twimg.com/media/CT4521TWwAEvMyu.jpg   \n",
       "3  666044226329800704  https://pbs.twimg.com/media/CT5Dr8HUEAA-lEu.jpg   \n",
       "4  666049248165822465  https://pbs.twimg.com/media/CT5IQmsXIAAKY4A.jpg   \n",
       "\n",
       "   img_num                      p1   p1_conf  p1_dog                  p2  \\\n",
       "0        1  Welsh_springer_spaniel  0.465074    True              collie   \n",
       "1        1                 redbone  0.506826    True  miniature_pinscher   \n",
       "2        1         German_shepherd  0.596461    True            malinois   \n",
       "3        1     Rhodesian_ridgeback  0.408143    True             redbone   \n",
       "4        1      miniature_pinscher  0.560311    True          Rottweiler   \n",
       "\n",
       "    p2_conf  p2_dog                   p3   p3_conf  p3_dog  \n",
       "0  0.156665    True    Shetland_sheepdog  0.061428    True  \n",
       "1  0.074192    True  Rhodesian_ridgeback  0.072010    True  \n",
       "2  0.138584    True           bloodhound  0.116197    True  \n",
       "3  0.360687    True   miniature_pinscher  0.222752    True  \n",
       "4  0.243682    True             Doberman  0.154629    True  "
      ]
     },
     "execution_count": 17,
     "metadata": {},
     "output_type": "execute_result"
    }
   ],
   "source": [
    "image_predictions.head()"
   ]
  },
  {
   "cell_type": "code",
   "execution_count": 18,
   "metadata": {
    "scrolled": true
   },
   "outputs": [
    {
     "name": "stdout",
     "output_type": "stream",
     "text": [
      "<class 'pandas.core.frame.DataFrame'>\n",
      "RangeIndex: 2075 entries, 0 to 2074\n",
      "Data columns (total 12 columns):\n",
      "tweet_id    2075 non-null int64\n",
      "jpg_url     2075 non-null object\n",
      "img_num     2075 non-null int64\n",
      "p1          2075 non-null object\n",
      "p1_conf     2075 non-null float64\n",
      "p1_dog      2075 non-null bool\n",
      "p2          2075 non-null object\n",
      "p2_conf     2075 non-null float64\n",
      "p2_dog      2075 non-null bool\n",
      "p3          2075 non-null object\n",
      "p3_conf     2075 non-null float64\n",
      "p3_dog      2075 non-null bool\n",
      "dtypes: bool(3), float64(3), int64(2), object(4)\n",
      "memory usage: 152.1+ KB\n"
     ]
    }
   ],
   "source": [
    "image_predictions.info()"
   ]
  },
  {
   "cell_type": "code",
   "execution_count": 9,
   "metadata": {
    "scrolled": true
   },
   "outputs": [
    {
     "data": {
      "text/plain": [
       "['golden_retriever',\n",
       " 'Labrador_retriever',\n",
       " 'Pembroke',\n",
       " 'Chihuahua',\n",
       " 'pug',\n",
       " 'chow',\n",
       " 'Samoyed',\n",
       " 'toy_poodle',\n",
       " 'Pomeranian',\n",
       " 'cocker_spaniel',\n",
       " 'malamute',\n",
       " 'French_bulldog',\n",
       " 'miniature_pinscher',\n",
       " 'Chesapeake_Bay_retriever',\n",
       " 'seat_belt',\n",
       " 'German_shepherd',\n",
       " 'Siberian_husky',\n",
       " 'Staffordshire_bullterrier',\n",
       " 'web_site',\n",
       " 'Cardigan',\n",
       " 'Eskimo_dog',\n",
       " 'teddy',\n",
       " 'beagle',\n",
       " 'Maltese_dog',\n",
       " 'Shetland_sheepdog',\n",
       " 'Lakeland_terrier',\n",
       " 'Shih-Tzu',\n",
       " 'Rottweiler',\n",
       " 'Italian_greyhound',\n",
       " 'kuvasz',\n",
       " 'West_Highland_white_terrier',\n",
       " 'Great_Pyrenees',\n",
       " 'basset',\n",
       " 'vizsla',\n",
       " 'Pekinese',\n",
       " 'American_Staffordshire_terrier',\n",
       " 'dalmatian',\n",
       " 'Old_English_sheepdog',\n",
       " 'Border_collie',\n",
       " 'Airedale',\n",
       " 'Blenheim_spaniel',\n",
       " 'kelpie',\n",
       " 'soft-coated_wheaten_terrier',\n",
       " 'collie',\n",
       " 'English_springer',\n",
       " 'boxer',\n",
       " 'schipperke',\n",
       " 'Bernese_mountain_dog',\n",
       " 'Great_Dane',\n",
       " 'borzoi',\n",
       " 'tennis_ball',\n",
       " 'whippet',\n",
       " 'Boston_bull',\n",
       " 'dingo',\n",
       " 'malinois',\n",
       " 'doormat',\n",
       " 'miniature_poodle',\n",
       " 'English_setter',\n",
       " 'flat-coated_retriever',\n",
       " 'Yorkshire_terrier',\n",
       " 'papillon',\n",
       " 'standard_poodle',\n",
       " 'Doberman',\n",
       " 'Norwegian_elkhound',\n",
       " 'bath_towel',\n",
       " 'Siamese_cat',\n",
       " 'bloodhound',\n",
       " 'German_short-haired_pointer',\n",
       " 'Norfolk_terrier',\n",
       " 'Border_terrier',\n",
       " 'tub',\n",
       " 'basenji',\n",
       " 'Brittany_spaniel',\n",
       " 'swing',\n",
       " 'Saint_Bernard',\n",
       " 'hamster',\n",
       " 'ice_bear',\n",
       " 'Dandie_Dinmont',\n",
       " 'Irish_terrier',\n",
       " 'home_theater',\n",
       " 'Irish_setter',\n",
       " 'redbone',\n",
       " 'llama',\n",
       " 'car_mirror',\n",
       " 'porcupine',\n",
       " 'Newfoundland',\n",
       " 'bull_mastiff',\n",
       " 'ox',\n",
       " 'Lhasa',\n",
       " 'Tibetan_mastiff',\n",
       " 'hippopotamus',\n",
       " 'minivan',\n",
       " 'Bedlington_terrier',\n",
       " 'shopping_cart',\n",
       " 'Walker_hound',\n",
       " 'Mexican_hairless',\n",
       " 'Norwich_terrier',\n",
       " 'guinea_pig',\n",
       " 'hog',\n",
       " 'Afghan_hound',\n",
       " 'bow_tie',\n",
       " 'goose',\n",
       " 'patio',\n",
       " 'Tibetan_terrier',\n",
       " 'brown_bear',\n",
       " 'bluetick',\n",
       " 'Weimaraner',\n",
       " 'miniature_schnauzer',\n",
       " 'Rhodesian_ridgeback',\n",
       " 'Saluki',\n",
       " 'jigsaw_puzzle',\n",
       " 'barrow',\n",
       " 'Gordon_setter',\n",
       " 'bathtub',\n",
       " 'keeshond',\n",
       " 'Arctic_fox',\n",
       " 'wombat',\n",
       " 'comic_book',\n",
       " 'seashore',\n",
       " 'Irish_water_spaniel',\n",
       " 'cairn',\n",
       " 'dishwasher',\n",
       " 'motor_scooter',\n",
       " 'muzzle',\n",
       " 'stone_wall',\n",
       " 'Scottish_deerhound',\n",
       " 'Greater_Swiss_Mountain_dog',\n",
       " 'ram',\n",
       " 'ski_mask',\n",
       " 'space_heater',\n",
       " 'common_iguana',\n",
       " \"jack-o'-lantern\",\n",
       " 'vacuum',\n",
       " 'Brabancon_griffon',\n",
       " 'giant_schnauzer',\n",
       " 'komondor',\n",
       " 'Leonberg',\n",
       " 'prison',\n",
       " 'Arabian_camel',\n",
       " 'cowboy_hat',\n",
       " 'window_shade',\n",
       " 'white_wolf',\n",
       " 'balloon',\n",
       " 'mousetrap',\n",
       " 'Ibizan_hound',\n",
       " 'triceratops',\n",
       " 'wood_rabbit',\n",
       " 'washbasin',\n",
       " 'Christmas_stocking',\n",
       " 'Welsh_springer_spaniel',\n",
       " 'curly-coated_retriever',\n",
       " 'sea_lion',\n",
       " 'briard',\n",
       " 'refrigerator',\n",
       " 'toilet_tissue',\n",
       " 'frilled_lizard',\n",
       " 'street_sign',\n",
       " 'lakeside',\n",
       " 'birdhouse',\n",
       " 'laptop',\n",
       " 'weasel',\n",
       " 'Sussex_spaniel',\n",
       " 'chimpanzee',\n",
       " 'axolotl',\n",
       " 'Appenzeller',\n",
       " 'tabby',\n",
       " 'gas_pump',\n",
       " 'hen',\n",
       " 'snail',\n",
       " 'bubble',\n",
       " 'paper_towel',\n",
       " 'hyena',\n",
       " 'meerkat',\n",
       " 'badger',\n",
       " 'feather_boa',\n",
       " 'wire-haired_fox_terrier',\n",
       " 'gondola',\n",
       " 'geyser',\n",
       " 'cash_machine',\n",
       " 'Loafer',\n",
       " 'shower_curtain',\n",
       " 'leatherback_turtle',\n",
       " 'snorkel',\n",
       " 'bustard',\n",
       " 'hermit_crab',\n",
       " 'wallaby',\n",
       " 'jellyfish',\n",
       " 'Angora',\n",
       " 'black-and-tan_coonhound',\n",
       " 'dogsled',\n",
       " 'koala',\n",
       " 'paddle',\n",
       " 'box_turtle',\n",
       " 'tusker',\n",
       " 'upright',\n",
       " 'wool',\n",
       " 'dough',\n",
       " 'sorrel',\n",
       " 'toyshop',\n",
       " 'ostrich',\n",
       " 'toy_terrier',\n",
       " 'Australian_terrier',\n",
       " 'acorn_squash',\n",
       " 'hand_blower',\n",
       " 'basketball',\n",
       " 'swab',\n",
       " 'king_penguin',\n",
       " 'rotisserie',\n",
       " 'binoculars',\n",
       " 'minibus',\n",
       " 'bearskin',\n",
       " 'clog',\n",
       " 'silky_terrier',\n",
       " 'carousel',\n",
       " 'killer_whale',\n",
       " 'studio_couch',\n",
       " 'earthstar',\n",
       " 'remote_control',\n",
       " 'mortarboard',\n",
       " 'marmot',\n",
       " 'electric_fan',\n",
       " 'robin',\n",
       " 'beaver',\n",
       " 'cuirass',\n",
       " 'espresso',\n",
       " 'polecat',\n",
       " 'boathouse',\n",
       " 'stove',\n",
       " 'EntleBucher',\n",
       " 'skunk',\n",
       " 'crane',\n",
       " 'leopard',\n",
       " 'envelope',\n",
       " 'carton',\n",
       " 'snowmobile',\n",
       " 'hotdog',\n",
       " 'bison',\n",
       " 'grey_fox',\n",
       " 'cheeseburger',\n",
       " 'microwave',\n",
       " 'tiger_shark',\n",
       " 'piggy_bank',\n",
       " 'desktop_computer',\n",
       " 'quilt',\n",
       " 'damselfly',\n",
       " 'panpipe',\n",
       " 'hummingbird',\n",
       " 'standard_schnauzer',\n",
       " 'ocarina',\n",
       " 'microphone',\n",
       " 'sliding_door',\n",
       " 'African_hunting_dog',\n",
       " 'pool_table',\n",
       " 'washer',\n",
       " 'bonnet',\n",
       " 'tricycle',\n",
       " 'sandbar',\n",
       " 'water_bottle',\n",
       " 'harp',\n",
       " 'convertible',\n",
       " 'orange',\n",
       " 'zebra',\n",
       " 'pitcher',\n",
       " 'soccer_ball',\n",
       " 'restaurant',\n",
       " 'timber_wolf',\n",
       " 'military_uniform',\n",
       " 'limousine',\n",
       " 'trombone',\n",
       " 'black-footed_ferret',\n",
       " 'park_bench',\n",
       " 'hammer',\n",
       " 'bald_eagle',\n",
       " 'handkerchief',\n",
       " 'bow',\n",
       " 'cowboy_boot',\n",
       " 'alp',\n",
       " 'maze',\n",
       " 'ice_lolly',\n",
       " 'clumber',\n",
       " 'bighorn',\n",
       " 'Egyptian_cat',\n",
       " 'teapot',\n",
       " 'bookcase',\n",
       " 'candle',\n",
       " 'cheetah',\n",
       " 'sundial',\n",
       " 'walking_stick',\n",
       " 'cup',\n",
       " 'conch',\n",
       " 'bakery',\n",
       " 'picket_fence',\n",
       " 'toilet_seat',\n",
       " 'hare',\n",
       " 'suit',\n",
       " 'lorikeet',\n",
       " 'tick',\n",
       " 'mailbox',\n",
       " 'ping-pong_ball',\n",
       " 'coil',\n",
       " 'banana',\n",
       " 'bee_eater',\n",
       " 'giant_panda',\n",
       " 'peacock',\n",
       " 'sea_urchin',\n",
       " 'syringe',\n",
       " 'coho',\n",
       " 'sunglasses',\n",
       " 'guenon',\n",
       " 'scorpion',\n",
       " 'leaf_beetle',\n",
       " 'beach_wagon',\n",
       " 'American_black_bear',\n",
       " 'loupe',\n",
       " 'bannister',\n",
       " 'mud_turtle',\n",
       " 'cliff',\n",
       " 'pencil_box',\n",
       " 'starfish',\n",
       " 'pot',\n",
       " 'sulphur-crested_cockatoo',\n",
       " 'shield',\n",
       " 'school_bus',\n",
       " 'long-horned_beetle',\n",
       " 'grille',\n",
       " 'cougar',\n",
       " 'fire_engine',\n",
       " 'water_buffalo',\n",
       " 'pedestal',\n",
       " 'flamingo',\n",
       " 'pillow',\n",
       " 'padlock',\n",
       " 'wooden_spoon',\n",
       " 'coffee_mug',\n",
       " 'rain_barrel',\n",
       " 'jersey',\n",
       " 'slug',\n",
       " 'shopping_basket',\n",
       " 'lion',\n",
       " 'fountain',\n",
       " 'African_crocodile',\n",
       " 'agama',\n",
       " 'radio_telescope',\n",
       " 'terrapin',\n",
       " 'coral_reef',\n",
       " 'lawn_mower',\n",
       " 'pole',\n",
       " 'canoe',\n",
       " 'Madagascar_cat',\n",
       " 'crash_helmet',\n",
       " 'china_cabinet',\n",
       " 'traffic_light',\n",
       " 'fiddler_crab',\n",
       " 'lynx',\n",
       " 'bib',\n",
       " 'dhole',\n",
       " 'wild_boar',\n",
       " 'barbell',\n",
       " 'rapeseed',\n",
       " 'groenendael',\n",
       " 'hay',\n",
       " 'nail',\n",
       " 'otter',\n",
       " 'bookshop',\n",
       " 'four-poster',\n",
       " 'Japanese_spaniel',\n",
       " 'book_jacket',\n",
       " 'ibex',\n",
       " 'revolver',\n",
       " 'platypus',\n",
       " 'dining_table',\n",
       " 'prayer_rug',\n",
       " 'three-toed_sloth',\n",
       " 'maillot',\n",
       " 'tailed_frog',\n",
       " 'African_grey',\n",
       " 'Scotch_terrier',\n",
       " 'lacewing']"
      ]
     },
     "execution_count": 9,
     "metadata": {},
     "output_type": "execute_result"
    }
   ],
   "source": [
    "list(image_predictions.p1.value_counts().index)"
   ]
  },
  {
   "cell_type": "code",
   "execution_count": 18,
   "metadata": {},
   "outputs": [
    {
     "data": {
      "text/plain": [
       "0"
      ]
     },
     "execution_count": 18,
     "metadata": {},
     "output_type": "execute_result"
    }
   ],
   "source": [
    "# Check for duplicate tweet ids\n",
    "image_predictions.tweet_id.duplicated().sum()"
   ]
  },
  {
   "cell_type": "code",
   "execution_count": 24,
   "metadata": {
    "scrolled": false
   },
   "outputs": [
    {
     "data": {
      "text/html": [
       "<div>\n",
       "<style scoped>\n",
       "    .dataframe tbody tr th:only-of-type {\n",
       "        vertical-align: middle;\n",
       "    }\n",
       "\n",
       "    .dataframe tbody tr th {\n",
       "        vertical-align: top;\n",
       "    }\n",
       "\n",
       "    .dataframe thead th {\n",
       "        text-align: right;\n",
       "    }\n",
       "</style>\n",
       "<table border=\"1\" class=\"dataframe\">\n",
       "  <thead>\n",
       "    <tr style=\"text-align: right;\">\n",
       "      <th></th>\n",
       "      <th>tweet_id</th>\n",
       "      <th>retweet_count</th>\n",
       "      <th>favorite_count</th>\n",
       "    </tr>\n",
       "  </thead>\n",
       "  <tbody>\n",
       "    <tr>\n",
       "      <th>0</th>\n",
       "      <td>892420643555336193</td>\n",
       "      <td>8853</td>\n",
       "      <td>39467</td>\n",
       "    </tr>\n",
       "    <tr>\n",
       "      <th>1</th>\n",
       "      <td>892177421306343426</td>\n",
       "      <td>6514</td>\n",
       "      <td>33819</td>\n",
       "    </tr>\n",
       "    <tr>\n",
       "      <th>2</th>\n",
       "      <td>891815181378084864</td>\n",
       "      <td>4328</td>\n",
       "      <td>25461</td>\n",
       "    </tr>\n",
       "    <tr>\n",
       "      <th>3</th>\n",
       "      <td>891689557279858688</td>\n",
       "      <td>8964</td>\n",
       "      <td>42908</td>\n",
       "    </tr>\n",
       "    <tr>\n",
       "      <th>4</th>\n",
       "      <td>891327558926688256</td>\n",
       "      <td>9774</td>\n",
       "      <td>41048</td>\n",
       "    </tr>\n",
       "  </tbody>\n",
       "</table>\n",
       "</div>"
      ],
      "text/plain": [
       "             tweet_id  retweet_count  favorite_count\n",
       "0  892420643555336193           8853           39467\n",
       "1  892177421306343426           6514           33819\n",
       "2  891815181378084864           4328           25461\n",
       "3  891689557279858688           8964           42908\n",
       "4  891327558926688256           9774           41048"
      ]
     },
     "execution_count": 24,
     "metadata": {},
     "output_type": "execute_result"
    }
   ],
   "source": [
    "refav_counts.head()"
   ]
  },
  {
   "cell_type": "code",
   "execution_count": 31,
   "metadata": {},
   "outputs": [
    {
     "name": "stdout",
     "output_type": "stream",
     "text": [
      "<class 'pandas.core.frame.DataFrame'>\n",
      "RangeIndex: 2354 entries, 0 to 2353\n",
      "Data columns (total 3 columns):\n",
      "tweet_id          2354 non-null int64\n",
      "retweet_count     2354 non-null int64\n",
      "favorite_count    2354 non-null int64\n",
      "dtypes: int64(3)\n",
      "memory usage: 55.2 KB\n"
     ]
    }
   ],
   "source": [
    "refav_counts.info()"
   ]
  },
  {
   "cell_type": "code",
   "execution_count": 13,
   "metadata": {},
   "outputs": [
    {
     "data": {
      "text/plain": [
       "(2356, 2354)"
      ]
     },
     "execution_count": 13,
     "metadata": {},
     "output_type": "execute_result"
    }
   ],
   "source": [
    "# Compare the number rows of the tables which are going to be merged\n",
    "twitter_archive.shape[0], refav_counts.shape[0]"
   ]
  },
  {
   "cell_type": "markdown",
   "metadata": {},
   "source": [
    "### Quality\n",
    "\n",
    "`twitter_archive` table\n",
    "\n",
    "- The **rating_denominator** column contains 23 rows with a value other than 10 which it may be best to remove for the sake of a consistent analysis later on.\n",
    "\n",
    "\n",
    "- The **rating_numerator** column's data type should be a float, because WeRateDogs often has ratings with a decimal point (so all the rating numerator values should probably be re-extracted from the **text** column).\n",
    "\n",
    "\n",
    "- The **rating_numerator** column contains values up to 1776. Everything above 14 is either a retweet, a reply, a joke, or an error, so the 12 rows with a rating numerator above 14 (and a rating denominator of 10) can be considered outliers best removed for the sake of the analysis later on.\n",
    "\n",
    "\n",
    "- The **name** column contains 109 rows which start with a lowercase letter. This is not an issue in itself, but those 109 \"names\" also happen to be non-names, so they should be replaced with \"None.\"\n",
    "\n",
    "\n",
    "- 'Floofer' is not a \"dog stage\" according to the Dogtionary, but 'floof' is, so the \"floofer\" values in the **floofer** column should be changed (although the tweets do refer to the dogs as \"floofers\").\n",
    "\n",
    "\n",
    "- Since the project's key points state that we only want \"original ratings,\" no retweets, any rows for which **retweeted_status_id** is not null should be removed.\\*\n",
    "\n",
    "\n",
    "- The **expanded_urls** column has 3 missing values (for rows which are neither replies nor retweets). \n",
    "\n",
    "\n",
    "- The **timestamp** column's data type should be *datetime*.\n",
    "\n",
    "\n",
    "\n",
    "`image_predictions` table\n",
    "\n",
    "- The values in the **p1**, **p2**, and **p3** columns mix lowercase and sentence case (and also use underscores instead of spaces).\n",
    "\n",
    "\n",
    "\\*And it could be argued that the replies included are not really \"original ratings\" either, so any rows for which **in_reply_to_status_id** is not null should be removed as well (there are only 181 retweets and 78 replies, 259 rows in total, a small number in relation to the entire dataset)."
   ]
  },
  {
   "cell_type": "markdown",
   "metadata": {},
   "source": [
    "### Tidiness\n",
    "\n",
    "`twitter_archive` table\n",
    "\n",
    "- The **doggo**, **floofer**, **pupper**, and **puppo** columns and their values can be combined into one **dog_stage** column.\n",
    "\n",
    "\n",
    "- The `twitter_archive`, `refav_counts`, and `image_predictions` tables should be combined."
   ]
  },
  {
   "cell_type": "markdown",
   "metadata": {},
   "source": [
    "<a id='clean'></a>\n",
    "## Cleaning the Data"
   ]
  },
  {
   "cell_type": "markdown",
   "metadata": {},
   "source": [
    "The original datasets should remain untouched, so I'll make copies of the two tables with quality and tidiness issues (`twitter_archive` and `image_predictions`):"
   ]
  },
  {
   "cell_type": "code",
   "execution_count": 6,
   "metadata": {},
   "outputs": [],
   "source": [
    "twitter_archive_clean = twitter_archive.copy()\n",
    "image_predictions_clean = image_predictions.copy()\n",
    "refav_counts_clean = refav_counts_clean.copy()"
   ]
  },
  {
   "cell_type": "markdown",
   "metadata": {},
   "source": [
    "### Quality\n",
    "\n",
    "`twitter_archive_clean`\n",
    "\n",
    "*Definition of issue*\n",
    "\n",
    "1. Remove any rows where the **in_reply_to_status_id** or **retweeted_status_id** columns don't contain null values (i.e., remove any replies or retweets):"
   ]
  },
  {
   "cell_type": "code",
   "execution_count": 7,
   "metadata": {},
   "outputs": [],
   "source": [
    "# Code\n",
    "twitter_archive_clean = twitter_archive_clean[(twitter_archive_clean.in_reply_to_status_id.isnull()) & (twitter_archive_clean.retweeted_status_id.isnull())]"
   ]
  },
  {
   "cell_type": "code",
   "execution_count": 8,
   "metadata": {},
   "outputs": [
    {
     "data": {
      "text/plain": [
       "0"
      ]
     },
     "execution_count": 8,
     "metadata": {},
     "output_type": "execute_result"
    }
   ],
   "source": [
    "# Test: check if there are any non-null values in the reply or retweet id columns\n",
    "twitter_archive_clean[(twitter_archive_clean.in_reply_to_status_id.notnull()) & (twitter_archive_clean.retweeted_status_id.notnull())].shape[0]"
   ]
  },
  {
   "cell_type": "markdown",
   "metadata": {},
   "source": [
    "*Definition of issue*\n",
    "\n",
    "2. Remove any rows with a **rating_denominator** other than 10 (but save them in a separate table, `twitter_archive_clean_rdnot10` (\"rdnot10\" for \"rating denominator not 10\"), for possible further investigation later on:"
   ]
  },
  {
   "cell_type": "code",
   "execution_count": 13,
   "metadata": {},
   "outputs": [],
   "source": [
    "# Code\n",
    "twitter_archive_clean_rdnot10 = twitter_archive_clean[twitter_archive_clean.rating_denominator != 10]\n",
    "twitter_archive_clean = twitter_archive_clean[twitter_archive_clean.rating_denominator == 10]"
   ]
  },
  {
   "cell_type": "code",
   "execution_count": 14,
   "metadata": {
    "scrolled": true
   },
   "outputs": [
    {
     "data": {
      "text/plain": [
       "0"
      ]
     },
     "execution_count": 14,
     "metadata": {},
     "output_type": "execute_result"
    }
   ],
   "source": [
    "# Test: check if there are any rows with a rating denominator other than 10\n",
    "twitter_archive_clean[twitter_archive_clean.rating_denominator != 10].shape[0]"
   ]
  },
  {
   "cell_type": "markdown",
   "metadata": {},
   "source": [
    "*Definition of issue*\n",
    "\n",
    "3. Re-extract the **rating_numerator** column's data from the **text** column with the `str.extract` method and convert the values to floats:"
   ]
  },
  {
   "cell_type": "code",
   "execution_count": 15,
   "metadata": {
    "scrolled": true
   },
   "outputs": [],
   "source": [
    "# Code\n",
    "twitter_archive_clean.rating_numerator = twitter_archive_clean.text.str.extract(r\"(\\d+/10|\\d+\\.\\d+/10)\")[0].str.replace(\"/10\", \"\").astype(float)"
   ]
  },
  {
   "cell_type": "code",
   "execution_count": 16,
   "metadata": {
    "scrolled": false
   },
   "outputs": [
    {
     "data": {
      "text/plain": [
       "12.00      486\n",
       "10.00      436\n",
       "11.00      413\n",
       "13.00      287\n",
       "9.00       152\n",
       "8.00        98\n",
       "7.00        51\n",
       "14.00       38\n",
       "5.00        33\n",
       "6.00        32\n",
       "3.00        19\n",
       "4.00        15\n",
       "2.00         9\n",
       "1.00         4\n",
       "9.75         1\n",
       "0.00         1\n",
       "11.26        1\n",
       "11.27        1\n",
       "13.50        1\n",
       "420.00       1\n",
       "1776.00      1\n",
       "Name: rating_numerator, dtype: int64"
      ]
     },
     "execution_count": 16,
     "metadata": {},
     "output_type": "execute_result"
    }
   ],
   "source": [
    "# Test: check unique values in the 'rating_numerator' column\n",
    "twitter_archive_clean.rating_numerator.value_counts()"
   ]
  },
  {
   "cell_type": "code",
   "execution_count": 17,
   "metadata": {},
   "outputs": [
    {
     "data": {
      "text/plain": [
       "dtype('float64')"
      ]
     },
     "execution_count": 17,
     "metadata": {},
     "output_type": "execute_result"
    }
   ],
   "source": [
    "# Test: Check the data type of the 'rating_numerator' column\n",
    "twitter_archive_clean.rating_numerator.dtype"
   ]
  },
  {
   "cell_type": "markdown",
   "metadata": {},
   "source": [
    "*Definition of issue*\n",
    "\n",
    "4. Remove the two rows with `rating_numerator` values above 14 (because they are extreme outliers, and the tweets also happen to be jokes, one with Snoop Dogg and one celebrating the founding of the United States):"
   ]
  },
  {
   "cell_type": "code",
   "execution_count": 18,
   "metadata": {},
   "outputs": [],
   "source": [
    "# Code\n",
    "twitter_archive_clean = twitter_archive_clean[twitter_archive_clean.rating_numerator <= 14]"
   ]
  },
  {
   "cell_type": "code",
   "execution_count": 19,
   "metadata": {},
   "outputs": [
    {
     "data": {
      "text/plain": [
       "0"
      ]
     },
     "execution_count": 19,
     "metadata": {},
     "output_type": "execute_result"
    }
   ],
   "source": [
    "# Test: check if there are any values greater than 14\n",
    "twitter_archive_clean[twitter_archive_clean.rating_numerator > 14].shape[0]"
   ]
  },
  {
   "cell_type": "markdown",
   "metadata": {},
   "source": [
    "*Definition of issue*\n",
    "\n",
    "5. Change the **timestamp** column's data type using the `to_datetime` function:"
   ]
  },
  {
   "cell_type": "code",
   "execution_count": 20,
   "metadata": {
    "scrolled": true
   },
   "outputs": [],
   "source": [
    "# Code\n",
    "twitter_archive_clean.timestamp = pd.to_datetime(twitter_archive_clean.timestamp)"
   ]
  },
  {
   "cell_type": "code",
   "execution_count": 21,
   "metadata": {
    "scrolled": true
   },
   "outputs": [
    {
     "data": {
      "text/plain": [
       "dtype('<M8[ns]')"
      ]
     },
     "execution_count": 21,
     "metadata": {},
     "output_type": "execute_result"
    }
   ],
   "source": [
    "# Test: check the data type of the 'timestamp' column\n",
    "twitter_archive_clean.timestamp.dtype"
   ]
  },
  {
   "cell_type": "markdown",
   "metadata": {},
   "source": [
    "*Definition of issue*\n",
    "\n",
    "6. In the **name** column, replace the values that begin with a lowercase letter with \"None\":"
   ]
  },
  {
   "cell_type": "code",
   "execution_count": 22,
   "metadata": {},
   "outputs": [],
   "source": [
    "# Code\n",
    "twitter_archive_clean.loc[twitter_archive_clean.name.str.islower(), \"name\"] = \"None\""
   ]
  },
  {
   "cell_type": "code",
   "execution_count": 24,
   "metadata": {
    "scrolled": true
   },
   "outputs": [
    {
     "data": {
      "text/plain": [
       "0"
      ]
     },
     "execution_count": 24,
     "metadata": {},
     "output_type": "execute_result"
    }
   ],
   "source": [
    "# Test: check to see if there are any values beginning with a lowercase letter\n",
    "twitter_archive_clean[twitter_archive_clean.name.str.islower()].shape[0]"
   ]
  },
  {
   "cell_type": "markdown",
   "metadata": {},
   "source": [
    "*Definition of issue*\n",
    "\n",
    "7. Replace any \"floofer\" values in the **floofer** column with \"floof\" (and rename the column to **floof** to avoid any confusion):"
   ]
  },
  {
   "cell_type": "code",
   "execution_count": 25,
   "metadata": {},
   "outputs": [],
   "source": [
    "# Code\n",
    "twitter_archive_clean.rename(columns = {\"floofer\": \"floof\"}, inplace = True)\n",
    "twitter_archive_clean.floof = twitter_archive_clean.floof.str.replace(\"floofer\", \"floof\")"
   ]
  },
  {
   "cell_type": "code",
   "execution_count": 26,
   "metadata": {
    "scrolled": true
   },
   "outputs": [
    {
     "data": {
      "text/plain": [
       "46      floof\n",
       "200     floof\n",
       "582     floof\n",
       "774     floof\n",
       "984     floof\n",
       "1022    floof\n",
       "1091    floof\n",
       "1110    floof\n",
       "1534    floof\n",
       "1614    floof\n",
       "Name: floof, dtype: object"
      ]
     },
     "execution_count": 26,
     "metadata": {},
     "output_type": "execute_result"
    }
   ],
   "source": [
    "# Test: check that column name and values have been changed to \"floof\"\n",
    "twitter_archive_clean[\"floof\"][twitter_archive_clean.floof != \"None\"]"
   ]
  },
  {
   "cell_type": "markdown",
   "metadata": {},
   "source": [
    "`image predictions_clean`\n",
    "\n",
    "*Definition of issue*\n",
    "\n",
    "8. In the **p1**, **p2**, and **p3** columns, replace the underscores with spaces using the `str.replace` method, and then capitalize all values with the `str.capitalize` method (the `str.title` method could also be used, but I'm unsure about dog breed spelling conventions):"
   ]
  },
  {
   "cell_type": "code",
   "execution_count": 27,
   "metadata": {},
   "outputs": [],
   "source": [
    "# Code\n",
    "image_predictions_clean.p1 = image_predictions_clean.p1.str.replace(\"_\", \" \").str.capitalize()\n",
    "image_predictions_clean.p2 = image_predictions_clean.p2.str.replace(\"_\", \" \").str.capitalize()\n",
    "image_predictions_clean.p3 = image_predictions_clean.p3.str.replace(\"_\", \" \").str.capitalize()"
   ]
  },
  {
   "cell_type": "code",
   "execution_count": 28,
   "metadata": {},
   "outputs": [
    {
     "data": {
      "text/html": [
       "<div>\n",
       "<style scoped>\n",
       "    .dataframe tbody tr th:only-of-type {\n",
       "        vertical-align: middle;\n",
       "    }\n",
       "\n",
       "    .dataframe tbody tr th {\n",
       "        vertical-align: top;\n",
       "    }\n",
       "\n",
       "    .dataframe thead th {\n",
       "        text-align: right;\n",
       "    }\n",
       "</style>\n",
       "<table border=\"1\" class=\"dataframe\">\n",
       "  <thead>\n",
       "    <tr style=\"text-align: right;\">\n",
       "      <th></th>\n",
       "      <th>p1</th>\n",
       "      <th>p2</th>\n",
       "      <th>p3</th>\n",
       "    </tr>\n",
       "  </thead>\n",
       "  <tbody>\n",
       "    <tr>\n",
       "      <th>0</th>\n",
       "      <td>Welsh springer spaniel</td>\n",
       "      <td>Collie</td>\n",
       "      <td>Shetland sheepdog</td>\n",
       "    </tr>\n",
       "    <tr>\n",
       "      <th>1</th>\n",
       "      <td>Redbone</td>\n",
       "      <td>Miniature pinscher</td>\n",
       "      <td>Rhodesian ridgeback</td>\n",
       "    </tr>\n",
       "    <tr>\n",
       "      <th>2</th>\n",
       "      <td>German shepherd</td>\n",
       "      <td>Malinois</td>\n",
       "      <td>Bloodhound</td>\n",
       "    </tr>\n",
       "    <tr>\n",
       "      <th>3</th>\n",
       "      <td>Rhodesian ridgeback</td>\n",
       "      <td>Redbone</td>\n",
       "      <td>Miniature pinscher</td>\n",
       "    </tr>\n",
       "    <tr>\n",
       "      <th>4</th>\n",
       "      <td>Miniature pinscher</td>\n",
       "      <td>Rottweiler</td>\n",
       "      <td>Doberman</td>\n",
       "    </tr>\n",
       "    <tr>\n",
       "      <th>5</th>\n",
       "      <td>Bernese mountain dog</td>\n",
       "      <td>English springer</td>\n",
       "      <td>Greater swiss mountain dog</td>\n",
       "    </tr>\n",
       "    <tr>\n",
       "      <th>6</th>\n",
       "      <td>Box turtle</td>\n",
       "      <td>Mud turtle</td>\n",
       "      <td>Terrapin</td>\n",
       "    </tr>\n",
       "    <tr>\n",
       "      <th>7</th>\n",
       "      <td>Chow</td>\n",
       "      <td>Tibetan mastiff</td>\n",
       "      <td>Fur coat</td>\n",
       "    </tr>\n",
       "    <tr>\n",
       "      <th>8</th>\n",
       "      <td>Shopping cart</td>\n",
       "      <td>Shopping basket</td>\n",
       "      <td>Golden retriever</td>\n",
       "    </tr>\n",
       "    <tr>\n",
       "      <th>9</th>\n",
       "      <td>Miniature poodle</td>\n",
       "      <td>Komondor</td>\n",
       "      <td>Soft-coated wheaten terrier</td>\n",
       "    </tr>\n",
       "  </tbody>\n",
       "</table>\n",
       "</div>"
      ],
      "text/plain": [
       "                       p1                  p2                           p3\n",
       "0  Welsh springer spaniel              Collie            Shetland sheepdog\n",
       "1                 Redbone  Miniature pinscher          Rhodesian ridgeback\n",
       "2         German shepherd            Malinois                   Bloodhound\n",
       "3     Rhodesian ridgeback             Redbone           Miniature pinscher\n",
       "4      Miniature pinscher          Rottweiler                     Doberman\n",
       "5    Bernese mountain dog    English springer   Greater swiss mountain dog\n",
       "6              Box turtle          Mud turtle                     Terrapin\n",
       "7                    Chow     Tibetan mastiff                     Fur coat\n",
       "8           Shopping cart     Shopping basket             Golden retriever\n",
       "9        Miniature poodle            Komondor  Soft-coated wheaten terrier"
      ]
     },
     "execution_count": 28,
     "metadata": {},
     "output_type": "execute_result"
    }
   ],
   "source": [
    "# Test\n",
    "image_predictions_clean[[\"p1\", \"p2\", \"p3\"]].head(10)"
   ]
  },
  {
   "cell_type": "markdown",
   "metadata": {},
   "source": [
    "### Tidiness\n",
    "\n",
    "I'll begin by removing any irrelevant columns:"
   ]
  },
  {
   "cell_type": "code",
   "execution_count": 30,
   "metadata": {
    "scrolled": true
   },
   "outputs": [],
   "source": [
    "# Code\n",
    "columns_to_drop = [\"in_reply_to_status_id\", \"in_reply_to_user_id\", \"source\", \"retweeted_status_id\", \"retweeted_status_user_id\", \"retweeted_status_timestamp\"]\n",
    "twitter_archive_clean.drop(columns_to_drop, axis = 1, inplace = True)"
   ]
  },
  {
   "cell_type": "code",
   "execution_count": 31,
   "metadata": {},
   "outputs": [
    {
     "data": {
      "text/plain": [
       "['tweet_id',\n",
       " 'timestamp',\n",
       " 'text',\n",
       " 'expanded_urls',\n",
       " 'rating_numerator',\n",
       " 'rating_denominator',\n",
       " 'name',\n",
       " 'doggo',\n",
       " 'floof',\n",
       " 'pupper',\n",
       " 'puppo']"
      ]
     },
     "execution_count": 31,
     "metadata": {},
     "output_type": "execute_result"
    }
   ],
   "source": [
    "# Test: check to see which columns remain\n",
    "list(twitter_archive_clean)"
   ]
  },
  {
   "cell_type": "markdown",
   "metadata": {},
   "source": [
    "*Definition of issue*\n",
    "\n",
    "1. Combine the **doggo**, **floof**, **pupper**, and **puppo** columns into one **dog_stage** column using the `agg` and `str.replace` methods (and drop the individual columns):"
   ]
  },
  {
   "cell_type": "code",
   "execution_count": 32,
   "metadata": {},
   "outputs": [],
   "source": [
    "# Code\n",
    "twitter_archive_clean[\"dog_stage\"] = twitter_archive_clean[[\"doggo\", \"floof\", \"pupper\", \"puppo\"]].agg(\"-\".join, axis=1).str.replace(\"None-\", \"\").str.replace(\"-None\", \"\")\n",
    "twitter_archive_clean.drop([\"doggo\", \"floof\", \"pupper\", \"puppo\"], axis = 1, inplace = True)"
   ]
  },
  {
   "cell_type": "code",
   "execution_count": 33,
   "metadata": {},
   "outputs": [
    {
     "data": {
      "text/plain": [
       "['tweet_id',\n",
       " 'timestamp',\n",
       " 'text',\n",
       " 'expanded_urls',\n",
       " 'rating_numerator',\n",
       " 'rating_denominator',\n",
       " 'name',\n",
       " 'dog_stage']"
      ]
     },
     "execution_count": 33,
     "metadata": {},
     "output_type": "execute_result"
    }
   ],
   "source": [
    "# Test: check to see which columns remain\n",
    "list(twitter_archive_clean)"
   ]
  },
  {
   "cell_type": "code",
   "execution_count": 34,
   "metadata": {
    "scrolled": true
   },
   "outputs": [
    {
     "data": {
      "text/plain": [
       "None            1742\n",
       "pupper           221\n",
       "doggo             72\n",
       "puppo             23\n",
       "doggo-pupper       9\n",
       "floof              9\n",
       "doggo-puppo        1\n",
       "doggo-floof        1\n",
       "Name: dog_stage, dtype: int64"
      ]
     },
     "execution_count": 34,
     "metadata": {},
     "output_type": "execute_result"
    }
   ],
   "source": [
    "# Test: check unique values in the 'dog_stage' column\n",
    "twitter_archive_clean.dog_stage.value_counts()"
   ]
  },
  {
   "cell_type": "markdown",
   "metadata": {},
   "source": [
    "The \"doggo-puppo\" is actually a \"puppo,\" and the \"doggo-floof\" is actually a \"floof,\" so those are easy to fix, but the reasons for the \"doggo-pupper\" values are inconsistent, so I'll remove them (but save them in a separate table, `twitter_archive_clean_dp` (\"dp\" for \"doggo-pupper\"), for possible further investigation later on):"
   ]
  },
  {
   "cell_type": "code",
   "execution_count": 36,
   "metadata": {},
   "outputs": [],
   "source": [
    "# Code\n",
    "twitter_archive_clean_dp = twitter_archive_clean[twitter_archive_clean.dog_stage == \"doggo-pupper\"]\n",
    "twitter_archive_clean = twitter_archive_clean[twitter_archive_clean.dog_stage != \"doggo-pupper\"]\n",
    "twitter_archive_clean.replace({\"dog_stage\": {\"None\": np.nan, \"doggo-puppo\": \"puppo\", \"doggo-floof\": \"floof\"}}, inplace = True)"
   ]
  },
  {
   "cell_type": "code",
   "execution_count": 37,
   "metadata": {},
   "outputs": [
    {
     "data": {
      "text/plain": [
       "pupper    221\n",
       "doggo      72\n",
       "puppo      24\n",
       "floof      10\n",
       "Name: dog_stage, dtype: int64"
      ]
     },
     "execution_count": 37,
     "metadata": {},
     "output_type": "execute_result"
    }
   ],
   "source": [
    "# Test: check unique values in the 'dog_stage' column again\n",
    "twitter_archive_clean.dog_stage.value_counts()"
   ]
  },
  {
   "cell_type": "markdown",
   "metadata": {},
   "source": [
    "*Definition of issue*\n",
    "\n",
    "2. The `twitter_archive_clean`, `refav_counts_clean`, and `image_predictions_clean` tables should all be combined using the `merge` function:"
   ]
  },
  {
   "cell_type": "code",
   "execution_count": 39,
   "metadata": {},
   "outputs": [],
   "source": [
    "# Code\n",
    "twitter_archive_master = pd.merge(pd.merge(twitter_archive_clean, refav_counts_clean, on = \"tweet_id\", how = \"left\"), image_predictions_clean, on = \"tweet_id\", how = \"left\")"
   ]
  },
  {
   "cell_type": "code",
   "execution_count": 42,
   "metadata": {},
   "outputs": [
    {
     "data": {
      "text/html": [
       "<div>\n",
       "<style scoped>\n",
       "    .dataframe tbody tr th:only-of-type {\n",
       "        vertical-align: middle;\n",
       "    }\n",
       "\n",
       "    .dataframe tbody tr th {\n",
       "        vertical-align: top;\n",
       "    }\n",
       "\n",
       "    .dataframe thead th {\n",
       "        text-align: right;\n",
       "    }\n",
       "</style>\n",
       "<table border=\"1\" class=\"dataframe\">\n",
       "  <thead>\n",
       "    <tr style=\"text-align: right;\">\n",
       "      <th></th>\n",
       "      <th>tweet_id</th>\n",
       "      <th>timestamp</th>\n",
       "      <th>text</th>\n",
       "      <th>expanded_urls</th>\n",
       "      <th>rating_numerator</th>\n",
       "      <th>rating_denominator</th>\n",
       "      <th>name</th>\n",
       "      <th>dog_stage</th>\n",
       "      <th>retweet_count</th>\n",
       "      <th>favorite_count</th>\n",
       "      <th>...</th>\n",
       "      <th>img_num</th>\n",
       "      <th>p1</th>\n",
       "      <th>p1_conf</th>\n",
       "      <th>p1_dog</th>\n",
       "      <th>p2</th>\n",
       "      <th>p2_conf</th>\n",
       "      <th>p2_dog</th>\n",
       "      <th>p3</th>\n",
       "      <th>p3_conf</th>\n",
       "      <th>p3_dog</th>\n",
       "    </tr>\n",
       "  </thead>\n",
       "  <tbody>\n",
       "    <tr>\n",
       "      <th>0</th>\n",
       "      <td>892420643555336193</td>\n",
       "      <td>2017-08-01 16:23:56</td>\n",
       "      <td>This is Phineas. He's a mystical boy. Only eve...</td>\n",
       "      <td>https://twitter.com/dog_rates/status/892420643...</td>\n",
       "      <td>13.0</td>\n",
       "      <td>10</td>\n",
       "      <td>Phineas</td>\n",
       "      <td>NaN</td>\n",
       "      <td>8853</td>\n",
       "      <td>39467</td>\n",
       "      <td>...</td>\n",
       "      <td>1.0</td>\n",
       "      <td>Orange</td>\n",
       "      <td>0.097049</td>\n",
       "      <td>False</td>\n",
       "      <td>Bagel</td>\n",
       "      <td>0.085851</td>\n",
       "      <td>False</td>\n",
       "      <td>Banana</td>\n",
       "      <td>0.076110</td>\n",
       "      <td>False</td>\n",
       "    </tr>\n",
       "    <tr>\n",
       "      <th>1</th>\n",
       "      <td>892177421306343426</td>\n",
       "      <td>2017-08-01 00:17:27</td>\n",
       "      <td>This is Tilly. She's just checking pup on you....</td>\n",
       "      <td>https://twitter.com/dog_rates/status/892177421...</td>\n",
       "      <td>13.0</td>\n",
       "      <td>10</td>\n",
       "      <td>Tilly</td>\n",
       "      <td>NaN</td>\n",
       "      <td>6514</td>\n",
       "      <td>33819</td>\n",
       "      <td>...</td>\n",
       "      <td>1.0</td>\n",
       "      <td>Chihuahua</td>\n",
       "      <td>0.323581</td>\n",
       "      <td>True</td>\n",
       "      <td>Pekinese</td>\n",
       "      <td>0.090647</td>\n",
       "      <td>True</td>\n",
       "      <td>Papillon</td>\n",
       "      <td>0.068957</td>\n",
       "      <td>True</td>\n",
       "    </tr>\n",
       "    <tr>\n",
       "      <th>2</th>\n",
       "      <td>891815181378084864</td>\n",
       "      <td>2017-07-31 00:18:03</td>\n",
       "      <td>This is Archie. He is a rare Norwegian Pouncin...</td>\n",
       "      <td>https://twitter.com/dog_rates/status/891815181...</td>\n",
       "      <td>12.0</td>\n",
       "      <td>10</td>\n",
       "      <td>Archie</td>\n",
       "      <td>NaN</td>\n",
       "      <td>4328</td>\n",
       "      <td>25461</td>\n",
       "      <td>...</td>\n",
       "      <td>1.0</td>\n",
       "      <td>Chihuahua</td>\n",
       "      <td>0.716012</td>\n",
       "      <td>True</td>\n",
       "      <td>Malamute</td>\n",
       "      <td>0.078253</td>\n",
       "      <td>True</td>\n",
       "      <td>Kelpie</td>\n",
       "      <td>0.031379</td>\n",
       "      <td>True</td>\n",
       "    </tr>\n",
       "    <tr>\n",
       "      <th>3</th>\n",
       "      <td>891689557279858688</td>\n",
       "      <td>2017-07-30 15:58:51</td>\n",
       "      <td>This is Darla. She commenced a snooze mid meal...</td>\n",
       "      <td>https://twitter.com/dog_rates/status/891689557...</td>\n",
       "      <td>13.0</td>\n",
       "      <td>10</td>\n",
       "      <td>Darla</td>\n",
       "      <td>NaN</td>\n",
       "      <td>8964</td>\n",
       "      <td>42908</td>\n",
       "      <td>...</td>\n",
       "      <td>1.0</td>\n",
       "      <td>Paper towel</td>\n",
       "      <td>0.170278</td>\n",
       "      <td>False</td>\n",
       "      <td>Labrador retriever</td>\n",
       "      <td>0.168086</td>\n",
       "      <td>True</td>\n",
       "      <td>Spatula</td>\n",
       "      <td>0.040836</td>\n",
       "      <td>False</td>\n",
       "    </tr>\n",
       "    <tr>\n",
       "      <th>4</th>\n",
       "      <td>891327558926688256</td>\n",
       "      <td>2017-07-29 16:00:24</td>\n",
       "      <td>This is Franklin. He would like you to stop ca...</td>\n",
       "      <td>https://twitter.com/dog_rates/status/891327558...</td>\n",
       "      <td>12.0</td>\n",
       "      <td>10</td>\n",
       "      <td>Franklin</td>\n",
       "      <td>NaN</td>\n",
       "      <td>9774</td>\n",
       "      <td>41048</td>\n",
       "      <td>...</td>\n",
       "      <td>2.0</td>\n",
       "      <td>Basset</td>\n",
       "      <td>0.555712</td>\n",
       "      <td>True</td>\n",
       "      <td>English springer</td>\n",
       "      <td>0.225770</td>\n",
       "      <td>True</td>\n",
       "      <td>German short-haired pointer</td>\n",
       "      <td>0.175219</td>\n",
       "      <td>True</td>\n",
       "    </tr>\n",
       "  </tbody>\n",
       "</table>\n",
       "<p>5 rows × 21 columns</p>\n",
       "</div>"
      ],
      "text/plain": [
       "             tweet_id           timestamp  \\\n",
       "0  892420643555336193 2017-08-01 16:23:56   \n",
       "1  892177421306343426 2017-08-01 00:17:27   \n",
       "2  891815181378084864 2017-07-31 00:18:03   \n",
       "3  891689557279858688 2017-07-30 15:58:51   \n",
       "4  891327558926688256 2017-07-29 16:00:24   \n",
       "\n",
       "                                                text  \\\n",
       "0  This is Phineas. He's a mystical boy. Only eve...   \n",
       "1  This is Tilly. She's just checking pup on you....   \n",
       "2  This is Archie. He is a rare Norwegian Pouncin...   \n",
       "3  This is Darla. She commenced a snooze mid meal...   \n",
       "4  This is Franklin. He would like you to stop ca...   \n",
       "\n",
       "                                       expanded_urls  rating_numerator  \\\n",
       "0  https://twitter.com/dog_rates/status/892420643...              13.0   \n",
       "1  https://twitter.com/dog_rates/status/892177421...              13.0   \n",
       "2  https://twitter.com/dog_rates/status/891815181...              12.0   \n",
       "3  https://twitter.com/dog_rates/status/891689557...              13.0   \n",
       "4  https://twitter.com/dog_rates/status/891327558...              12.0   \n",
       "\n",
       "   rating_denominator      name dog_stage  retweet_count  favorite_count  \\\n",
       "0                  10   Phineas       NaN           8853           39467   \n",
       "1                  10     Tilly       NaN           6514           33819   \n",
       "2                  10    Archie       NaN           4328           25461   \n",
       "3                  10     Darla       NaN           8964           42908   \n",
       "4                  10  Franklin       NaN           9774           41048   \n",
       "\n",
       "    ...   img_num           p1   p1_conf  p1_dog                  p2  \\\n",
       "0   ...       1.0       Orange  0.097049   False               Bagel   \n",
       "1   ...       1.0    Chihuahua  0.323581    True            Pekinese   \n",
       "2   ...       1.0    Chihuahua  0.716012    True            Malamute   \n",
       "3   ...       1.0  Paper towel  0.170278   False  Labrador retriever   \n",
       "4   ...       2.0       Basset  0.555712    True    English springer   \n",
       "\n",
       "    p2_conf  p2_dog                           p3   p3_conf  p3_dog  \n",
       "0  0.085851   False                       Banana  0.076110   False  \n",
       "1  0.090647    True                     Papillon  0.068957    True  \n",
       "2  0.078253    True                       Kelpie  0.031379    True  \n",
       "3  0.168086    True                      Spatula  0.040836   False  \n",
       "4  0.225770    True  German short-haired pointer  0.175219    True  \n",
       "\n",
       "[5 rows x 21 columns]"
      ]
     },
     "execution_count": 42,
     "metadata": {},
     "output_type": "execute_result"
    }
   ],
   "source": [
    "# Test\n",
    "twitter_archive_master.head()"
   ]
  },
  {
   "cell_type": "code",
   "execution_count": 41,
   "metadata": {},
   "outputs": [
    {
     "data": {
      "text/plain": [
       "['tweet_id',\n",
       " 'timestamp',\n",
       " 'text',\n",
       " 'expanded_urls',\n",
       " 'rating_numerator',\n",
       " 'rating_denominator',\n",
       " 'name',\n",
       " 'dog_stage',\n",
       " 'retweet_count',\n",
       " 'favorite_count',\n",
       " 'jpg_url',\n",
       " 'img_num',\n",
       " 'p1',\n",
       " 'p1_conf',\n",
       " 'p1_dog',\n",
       " 'p2',\n",
       " 'p2_conf',\n",
       " 'p2_dog',\n",
       " 'p3',\n",
       " 'p3_conf',\n",
       " 'p3_dog']"
      ]
     },
     "execution_count": 41,
     "metadata": {},
     "output_type": "execute_result"
    }
   ],
   "source": [
    "# Test to see that all columns were merged correctly\n",
    "list(twitter_archive_master)"
   ]
  },
  {
   "cell_type": "code",
   "execution_count": 43,
   "metadata": {},
   "outputs": [],
   "source": [
    "# Save 'twitter_archive_master' as csv files\n",
    "twitter_archive_master.to_csv(\"twitter_archive_master.csv\", index = False)"
   ]
  },
  {
   "cell_type": "markdown",
   "metadata": {},
   "source": [
    "<a id='analyze'></a>\n",
    "## Analyzing the Data"
   ]
  },
  {
   "cell_type": "markdown",
   "metadata": {},
   "source": [
    "Now it's finally time to analyze the data with pandas and Pyplot visualizations!"
   ]
  },
  {
   "cell_type": "code",
   "execution_count": 62,
   "metadata": {},
   "outputs": [],
   "source": [
    "import matplotlib.pyplot as plt\n",
    "% matplotlib inline\n",
    "\n",
    "twitter_archive_analysis = pd.read_csv(\"twitter_archive_master.csv\")"
   ]
  },
  {
   "cell_type": "markdown",
   "metadata": {},
   "source": [
    "How many rows are there with one of the four \"dog stages\" (i.e., which rows do not have \"None\" as its \"dog stage\" values)?"
   ]
  },
  {
   "cell_type": "code",
   "execution_count": 64,
   "metadata": {},
   "outputs": [
    {
     "data": {
      "text/plain": [
       "327"
      ]
     },
     "execution_count": 64,
     "metadata": {},
     "output_type": "execute_result"
    }
   ],
   "source": [
    "twitter_archive_ds = twitter_archive_analysis[twitter_archive_analysis.dog_stage != \"None\"]\n",
    "twitter_archive_ds.shape[0]"
   ]
  },
  {
   "cell_type": "markdown",
   "metadata": {},
   "source": [
    "What does the distribution of ratings look like for the entire dataset compared to this subset only including the four dog stages?"
   ]
  },
  {
   "cell_type": "code",
   "execution_count": 21,
   "metadata": {
    "scrolled": true
   },
   "outputs": [
    {
     "data": {
      "image/png": "[encoded data removed]",
      "text/plain": [
       "<matplotlib.figure.Figure at 0x7f88df42a0f0>"
      ]
     },
     "metadata": {
      "needs_background": "light"
     },
     "output_type": "display_data"
    }
   ],
   "source": [
    "plt.subplots(figsize = (15,7))\n",
    "chart_1 = plt.subplot(1, 2, 1, title = \"Distribution of Rating Numerators\\n\", xlabel = \"\\nRating Numerator\", ylabel = \"Amount\\n\")\n",
    "chart_2 = plt.subplot(1, 2, 2, title = \"Distribution of Rating Numerators for Dog Stage Subset\\n\", xlabel = \"\\nRating Numerator\", ylabel = \"Amount\\n\")\n",
    "chart_1.hist(twitter_archive_analysis.rating_numerator)\n",
    "chart_2.hist(twitter_archive_ds.rating_numerator);"
   ]
  },
  {
   "cell_type": "markdown",
   "metadata": {},
   "source": [
    "The distribution is clearly skewed in both, to the left, so while there is a wide range of ratings, the high ratings (from about 10 to 13 for the entire dataset, from about 10 to 14 for the subset) are the most common ones. WeRateDogs are (unsurprisingly) quite generous with their ratings! The distributions look similar enough, so I'll just focus on the subset in this analysis. \n",
    "\n",
    "Because there's such a difference in numbers between each category..."
   ]
  },
  {
   "cell_type": "code",
   "execution_count": 26,
   "metadata": {},
   "outputs": [
    {
     "data": {
      "text/plain": [
       "pupper    221\n",
       "doggo      72\n",
       "puppo      24\n",
       "floof      10\n",
       "Name: dog_stage, dtype: int64"
      ]
     },
     "execution_count": 26,
     "metadata": {},
     "output_type": "execute_result"
    }
   ],
   "source": [
    "twitter_archive_ds.dog_stage.value_counts()"
   ]
  },
  {
   "cell_type": "code",
   "execution_count": 52,
   "metadata": {
    "scrolled": false
   },
   "outputs": [
    {
     "data": {
      "image/png": "[encoded data removed]",
      "text/plain": [
       "<matplotlib.figure.Figure at 0x7f88df1378d0>"
      ]
     },
     "metadata": {
      "needs_background": "light"
     },
     "output_type": "display_data"
    }
   ],
   "source": [
    "plt.figure(figsize = (7, 5))\n",
    "twitter_archive_ds.dog_stage.value_counts().plot(kind = \"bar\")\n",
    "plt.title(\"Count of Dog Stages\\n\", fontsize = 14.5)\n",
    "plt.xlabel(\"\\nDog Stage\", fontsize = 12.5)\n",
    "plt.ylabel(\"Count\\n\", fontsize = 13.5)\n",
    "plt.xticks(rotation = 0)\n",
    "plt.grid(axis = \"y\");"
   ]
  },
  {
   "cell_type": "markdown",
   "metadata": {},
   "source": [
    "...I'll only focus on means for the rest of this analysis."
   ]
  },
  {
   "cell_type": "markdown",
   "metadata": {},
   "source": [
    "What are the average ratings for the four dog stages?"
   ]
  },
  {
   "cell_type": "code",
   "execution_count": 23,
   "metadata": {},
   "outputs": [
    {
     "data": {
      "text/plain": [
       "dog_stage\n",
       "doggo     11.847222\n",
       "floof     11.800000\n",
       "pupper    10.734253\n",
       "puppo     12.041667\n",
       "Name: rating_numerator, dtype: float64"
      ]
     },
     "execution_count": 23,
     "metadata": {},
     "output_type": "execute_result"
    }
   ],
   "source": [
    "dog_stage_means = twitter_archive_ds.groupby(\"dog_stage\").rating_numerator.mean()\n",
    "dog_stage_means"
   ]
  },
  {
   "cell_type": "code",
   "execution_count": 58,
   "metadata": {
    "scrolled": false
   },
   "outputs": [
    {
     "data": {
      "image/png": "[encoded data removed]",
      "text/plain": [
       "<matplotlib.figure.Figure at 0x7f88dfac5fd0>"
      ]
     },
     "metadata": {
      "needs_background": "light"
     },
     "output_type": "display_data"
    }
   ],
   "source": [
    "plt.figure(figsize = (7, 5))\n",
    "plt.bar([\"Doggo\", \"Floof\", \"Pupper\", \"Puppo\"], dog_stage_means)\n",
    "plt.title(\"Average Rating by Dog Stage\\n\", fontsize = 15)\n",
    "plt.xlabel(\"\\nDog Stage\", fontsize = 13)\n",
    "plt.ylabel(\"Average Rating\\n\", fontsize = 14)\n",
    "# I'll set the start value for the y-axis at 9.5 to make it easier to see the differences\n",
    "plt.ylim(bottom = 9.5)\n",
    "plt.grid(axis = \"y\");"
   ]
  },
  {
   "cell_type": "markdown",
   "metadata": {},
   "source": [
    "There's not any significant difference between the average ratings for the four dog stages, so they're almost equally beloved by WeRateDogs, but while the average rating for \"puppers\" is visibly lower than the other three categories, the average rating for \"puppers\" is just barely higher than \"doggos\" and \"floofs\" (a difference I've exaggerated in this chart).\n",
    "\n",
    "What about the average amount of retweets and likes? Is any dog stage significantly more popular among the audience?"
   ]
  },
  {
   "cell_type": "code",
   "execution_count": 65,
   "metadata": {
    "scrolled": false
   },
   "outputs": [
    {
     "data": {
      "text/html": [
       "<div>\n",
       "<style scoped>\n",
       "    .dataframe tbody tr th:only-of-type {\n",
       "        vertical-align: middle;\n",
       "    }\n",
       "\n",
       "    .dataframe tbody tr th {\n",
       "        vertical-align: top;\n",
       "    }\n",
       "\n",
       "    .dataframe thead th {\n",
       "        text-align: right;\n",
       "    }\n",
       "</style>\n",
       "<table border=\"1\" class=\"dataframe\">\n",
       "  <thead>\n",
       "    <tr style=\"text-align: right;\">\n",
       "      <th></th>\n",
       "      <th>Average number of retweets</th>\n",
       "      <th>Average number of likes</th>\n",
       "    </tr>\n",
       "    <tr>\n",
       "      <th>dog_stage</th>\n",
       "      <th></th>\n",
       "      <th></th>\n",
       "    </tr>\n",
       "  </thead>\n",
       "  <tbody>\n",
       "    <tr>\n",
       "      <th>doggo</th>\n",
       "      <td>6610</td>\n",
       "      <td>18060</td>\n",
       "    </tr>\n",
       "    <tr>\n",
       "      <th>floof</th>\n",
       "      <td>4083</td>\n",
       "      <td>11674</td>\n",
       "    </tr>\n",
       "    <tr>\n",
       "      <th>pupper</th>\n",
       "      <td>2486</td>\n",
       "      <td>7249</td>\n",
       "    </tr>\n",
       "    <tr>\n",
       "      <th>puppo</th>\n",
       "      <td>7124</td>\n",
       "      <td>22715</td>\n",
       "    </tr>\n",
       "  </tbody>\n",
       "</table>\n",
       "</div>"
      ],
      "text/plain": [
       "           Average number of retweets  Average number of likes\n",
       "dog_stage                                                     \n",
       "doggo                            6610                    18060\n",
       "floof                            4083                    11674\n",
       "pupper                           2486                     7249\n",
       "puppo                            7124                    22715"
      ]
     },
     "execution_count": 65,
     "metadata": {},
     "output_type": "execute_result"
    }
   ],
   "source": [
    "ds_refav_means = twitter_archive_ds.groupby(\"dog_stage\")[[\"retweet_count\", \"favorite_count\"]].mean().astype(int)\n",
    "ds_refav_means.rename(columns = {\"retweet_count\": \"Average number of retweets\", \"favorite_count\": \"Average number of likes\"}, inplace = True)\n",
    "ds_refav_means"
   ]
  },
  {
   "cell_type": "code",
   "execution_count": 67,
   "metadata": {
    "scrolled": false
   },
   "outputs": [
    {
     "data": {
      "image/png": "[encoded data removed]",
      "text/plain": [
       "<matplotlib.figure.Figure at 0x7f88e1be42b0>"
      ]
     },
     "metadata": {
      "needs_background": "light"
     },
     "output_type": "display_data"
    }
   ],
   "source": [
    "ds_refav_means.plot.bar(figsize = (8, 5), rot = 0)\n",
    "plt.xlabel(\"\\nDog Stage\", fontsize = 13)\n",
    "plt.ylabel(\"Mean Value\\n\", fontsize = 14)\n",
    "plt.title(\"Retweet & Favorite Means by Dog Stage\\n\", fontsize = 15)\n",
    "plt.grid(axis = \"y\");"
   ]
  },
  {
   "cell_type": "markdown",
   "metadata": {},
   "source": [
    "In terms of average number of likes, \"puppos,\" the second smallest category in size, are clearly the most liked, but in terms of average number of retweets, there's not any significant difference between \"puppos\" and \"doggos.\" Interestingly, \"floofs,\" the smallest category in size, are, on average, much more liked and retweeted than \"puppers,\" the largest category in size. In comparison to the ratings, there is a clear difference in how the audience feels about the different dog stages!"
   ]
  }
 ],
 "metadata": {
  "kernelspec": {
   "display_name": "Python 3",
   "language": "python",
   "name": "python3"
  },
  "language_info": {
   "codemirror_mode": {
    "name": "ipython",
    "version": 3
   },
   "file_extension": ".py",
   "mimetype": "text/x-python",
   "name": "python",
   "nbconvert_exporter": "python",
   "pygments_lexer": "ipython3",
   "version": "3.8.8"
  }
 },
 "nbformat": 4,
 "nbformat_minor": 2
}
